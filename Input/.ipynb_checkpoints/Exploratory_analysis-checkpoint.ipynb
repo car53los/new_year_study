{
 "cells": [
  {
   "cell_type": "markdown",
   "metadata": {},
   "source": [
    "## 1. データの準備\n",
    "- データの読み込み\n",
    "- 特徴量Xと正解ラベルyの設定"
   ]
  },
  {
   "cell_type": "markdown",
   "metadata": {},
   "source": [
    "#### ●データの読み込み"
   ]
  },
  {
   "cell_type": "code",
   "execution_count": 2,
   "metadata": {},
   "outputs": [
    {
     "data": {
      "text/html": [
       "<div>\n",
       "<style scoped>\n",
       "    .dataframe tbody tr th:only-of-type {\n",
       "        vertical-align: middle;\n",
       "    }\n",
       "\n",
       "    .dataframe tbody tr th {\n",
       "        vertical-align: top;\n",
       "    }\n",
       "\n",
       "    .dataframe thead th {\n",
       "        text-align: right;\n",
       "    }\n",
       "</style>\n",
       "<table border=\"1\" class=\"dataframe\">\n",
       "  <thead>\n",
       "    <tr style=\"text-align: right;\">\n",
       "      <th></th>\n",
       "      <th>Make</th>\n",
       "      <th>Model</th>\n",
       "      <th>Year</th>\n",
       "      <th>Engine Fuel Type</th>\n",
       "      <th>Engine HP</th>\n",
       "      <th>Engine Cylinders</th>\n",
       "      <th>Transmission Type</th>\n",
       "      <th>Driven_Wheels</th>\n",
       "      <th>Number of Doors</th>\n",
       "      <th>Market Category</th>\n",
       "      <th>Vehicle Size</th>\n",
       "      <th>Vehicle Style</th>\n",
       "      <th>highway MPG</th>\n",
       "      <th>city mpg</th>\n",
       "      <th>Popularity</th>\n",
       "      <th>MSRP</th>\n",
       "    </tr>\n",
       "  </thead>\n",
       "  <tbody>\n",
       "    <tr>\n",
       "      <th>0</th>\n",
       "      <td>BMW</td>\n",
       "      <td>1 Series M</td>\n",
       "      <td>2011</td>\n",
       "      <td>premium unleaded (required)</td>\n",
       "      <td>335.0</td>\n",
       "      <td>6.0</td>\n",
       "      <td>MANUAL</td>\n",
       "      <td>rear wheel drive</td>\n",
       "      <td>2.0</td>\n",
       "      <td>Factory Tuner,Luxury,High-Performance</td>\n",
       "      <td>Compact</td>\n",
       "      <td>Coupe</td>\n",
       "      <td>26</td>\n",
       "      <td>19</td>\n",
       "      <td>3916</td>\n",
       "      <td>46135</td>\n",
       "    </tr>\n",
       "    <tr>\n",
       "      <th>1</th>\n",
       "      <td>BMW</td>\n",
       "      <td>1 Series</td>\n",
       "      <td>2011</td>\n",
       "      <td>premium unleaded (required)</td>\n",
       "      <td>300.0</td>\n",
       "      <td>6.0</td>\n",
       "      <td>MANUAL</td>\n",
       "      <td>rear wheel drive</td>\n",
       "      <td>2.0</td>\n",
       "      <td>Luxury,Performance</td>\n",
       "      <td>Compact</td>\n",
       "      <td>Convertible</td>\n",
       "      <td>28</td>\n",
       "      <td>19</td>\n",
       "      <td>3916</td>\n",
       "      <td>40650</td>\n",
       "    </tr>\n",
       "    <tr>\n",
       "      <th>2</th>\n",
       "      <td>BMW</td>\n",
       "      <td>1 Series</td>\n",
       "      <td>2011</td>\n",
       "      <td>premium unleaded (required)</td>\n",
       "      <td>300.0</td>\n",
       "      <td>6.0</td>\n",
       "      <td>MANUAL</td>\n",
       "      <td>rear wheel drive</td>\n",
       "      <td>2.0</td>\n",
       "      <td>Luxury,High-Performance</td>\n",
       "      <td>Compact</td>\n",
       "      <td>Coupe</td>\n",
       "      <td>28</td>\n",
       "      <td>20</td>\n",
       "      <td>3916</td>\n",
       "      <td>36350</td>\n",
       "    </tr>\n",
       "    <tr>\n",
       "      <th>3</th>\n",
       "      <td>BMW</td>\n",
       "      <td>1 Series</td>\n",
       "      <td>2011</td>\n",
       "      <td>premium unleaded (required)</td>\n",
       "      <td>230.0</td>\n",
       "      <td>6.0</td>\n",
       "      <td>MANUAL</td>\n",
       "      <td>rear wheel drive</td>\n",
       "      <td>2.0</td>\n",
       "      <td>Luxury,Performance</td>\n",
       "      <td>Compact</td>\n",
       "      <td>Coupe</td>\n",
       "      <td>28</td>\n",
       "      <td>18</td>\n",
       "      <td>3916</td>\n",
       "      <td>29450</td>\n",
       "    </tr>\n",
       "    <tr>\n",
       "      <th>4</th>\n",
       "      <td>BMW</td>\n",
       "      <td>1 Series</td>\n",
       "      <td>2011</td>\n",
       "      <td>premium unleaded (required)</td>\n",
       "      <td>230.0</td>\n",
       "      <td>6.0</td>\n",
       "      <td>MANUAL</td>\n",
       "      <td>rear wheel drive</td>\n",
       "      <td>2.0</td>\n",
       "      <td>Luxury</td>\n",
       "      <td>Compact</td>\n",
       "      <td>Convertible</td>\n",
       "      <td>28</td>\n",
       "      <td>18</td>\n",
       "      <td>3916</td>\n",
       "      <td>34500</td>\n",
       "    </tr>\n",
       "  </tbody>\n",
       "</table>\n",
       "</div>"
      ],
      "text/plain": [
       "  Make       Model  Year             Engine Fuel Type  Engine HP  \\\n",
       "0  BMW  1 Series M  2011  premium unleaded (required)      335.0   \n",
       "1  BMW    1 Series  2011  premium unleaded (required)      300.0   \n",
       "2  BMW    1 Series  2011  premium unleaded (required)      300.0   \n",
       "3  BMW    1 Series  2011  premium unleaded (required)      230.0   \n",
       "4  BMW    1 Series  2011  premium unleaded (required)      230.0   \n",
       "\n",
       "   Engine Cylinders Transmission Type     Driven_Wheels  Number of Doors  \\\n",
       "0               6.0            MANUAL  rear wheel drive              2.0   \n",
       "1               6.0            MANUAL  rear wheel drive              2.0   \n",
       "2               6.0            MANUAL  rear wheel drive              2.0   \n",
       "3               6.0            MANUAL  rear wheel drive              2.0   \n",
       "4               6.0            MANUAL  rear wheel drive              2.0   \n",
       "\n",
       "                         Market Category Vehicle Size Vehicle Style  \\\n",
       "0  Factory Tuner,Luxury,High-Performance      Compact         Coupe   \n",
       "1                     Luxury,Performance      Compact   Convertible   \n",
       "2                Luxury,High-Performance      Compact         Coupe   \n",
       "3                     Luxury,Performance      Compact         Coupe   \n",
       "4                                 Luxury      Compact   Convertible   \n",
       "\n",
       "   highway MPG  city mpg  Popularity   MSRP  \n",
       "0           26        19        3916  46135  \n",
       "1           28        19        3916  40650  \n",
       "2           28        20        3916  36350  \n",
       "3           28        18        3916  29450  \n",
       "4           28        18        3916  34500  "
      ]
     },
     "metadata": {},
     "output_type": "display_data"
    },
    {
     "data": {
      "text/plain": [
       "(9532, 16)"
      ]
     },
     "metadata": {},
     "output_type": "display_data"
    }
   ],
   "source": [
    "# 必要なライブラリを読み込む\n",
    "from sklearn import linear_model\n",
    "from sklearn.metrics import mean_squared_error\n",
    "import numpy as np\n",
    "from sklearn.model_selection import train_test_split\n",
    "import pandas as pd\n",
    "from IPython.core.display import display\n",
    "\n",
    "# csvファイルを読み込む\n",
    "df_data = pd.read_csv('data.csv', header=0, quotechar='\"', encoding='cp932')\n",
    "\n",
    "# csvファイルの読み込みの正常終了を確認する\n",
    "display(df_data.head(5), df_data.shape)"
   ]
  },
  {
   "cell_type": "markdown",
   "metadata": {},
   "source": [
    "#### ●特徴量Xと正解ラベルyの設定"
   ]
  },
  {
   "cell_type": "code",
   "execution_count": 3,
   "metadata": {
    "scrolled": false
   },
   "outputs": [
    {
     "data": {
      "text/html": [
       "<div>\n",
       "<style scoped>\n",
       "    .dataframe tbody tr th:only-of-type {\n",
       "        vertical-align: middle;\n",
       "    }\n",
       "\n",
       "    .dataframe tbody tr th {\n",
       "        vertical-align: top;\n",
       "    }\n",
       "\n",
       "    .dataframe thead th {\n",
       "        text-align: right;\n",
       "    }\n",
       "</style>\n",
       "<table border=\"1\" class=\"dataframe\">\n",
       "  <thead>\n",
       "    <tr style=\"text-align: right;\">\n",
       "      <th></th>\n",
       "      <th>Make</th>\n",
       "      <th>Model</th>\n",
       "      <th>Year</th>\n",
       "      <th>Engine Fuel Type</th>\n",
       "      <th>Engine HP</th>\n",
       "      <th>Engine Cylinders</th>\n",
       "      <th>Transmission Type</th>\n",
       "      <th>Driven_Wheels</th>\n",
       "      <th>Number of Doors</th>\n",
       "      <th>Market Category</th>\n",
       "      <th>Vehicle Size</th>\n",
       "      <th>Vehicle Style</th>\n",
       "      <th>highway MPG</th>\n",
       "      <th>city mpg</th>\n",
       "      <th>Popularity</th>\n",
       "    </tr>\n",
       "  </thead>\n",
       "  <tbody>\n",
       "    <tr>\n",
       "      <th>0</th>\n",
       "      <td>BMW</td>\n",
       "      <td>1 Series M</td>\n",
       "      <td>2011</td>\n",
       "      <td>premium unleaded (required)</td>\n",
       "      <td>335.0</td>\n",
       "      <td>6.0</td>\n",
       "      <td>MANUAL</td>\n",
       "      <td>rear wheel drive</td>\n",
       "      <td>2.0</td>\n",
       "      <td>Factory Tuner,Luxury,High-Performance</td>\n",
       "      <td>Compact</td>\n",
       "      <td>Coupe</td>\n",
       "      <td>26</td>\n",
       "      <td>19</td>\n",
       "      <td>3916</td>\n",
       "    </tr>\n",
       "    <tr>\n",
       "      <th>1</th>\n",
       "      <td>BMW</td>\n",
       "      <td>1 Series</td>\n",
       "      <td>2011</td>\n",
       "      <td>premium unleaded (required)</td>\n",
       "      <td>300.0</td>\n",
       "      <td>6.0</td>\n",
       "      <td>MANUAL</td>\n",
       "      <td>rear wheel drive</td>\n",
       "      <td>2.0</td>\n",
       "      <td>Luxury,Performance</td>\n",
       "      <td>Compact</td>\n",
       "      <td>Convertible</td>\n",
       "      <td>28</td>\n",
       "      <td>19</td>\n",
       "      <td>3916</td>\n",
       "    </tr>\n",
       "    <tr>\n",
       "      <th>2</th>\n",
       "      <td>BMW</td>\n",
       "      <td>1 Series</td>\n",
       "      <td>2011</td>\n",
       "      <td>premium unleaded (required)</td>\n",
       "      <td>300.0</td>\n",
       "      <td>6.0</td>\n",
       "      <td>MANUAL</td>\n",
       "      <td>rear wheel drive</td>\n",
       "      <td>2.0</td>\n",
       "      <td>Luxury,High-Performance</td>\n",
       "      <td>Compact</td>\n",
       "      <td>Coupe</td>\n",
       "      <td>28</td>\n",
       "      <td>20</td>\n",
       "      <td>3916</td>\n",
       "    </tr>\n",
       "    <tr>\n",
       "      <th>3</th>\n",
       "      <td>BMW</td>\n",
       "      <td>1 Series</td>\n",
       "      <td>2011</td>\n",
       "      <td>premium unleaded (required)</td>\n",
       "      <td>230.0</td>\n",
       "      <td>6.0</td>\n",
       "      <td>MANUAL</td>\n",
       "      <td>rear wheel drive</td>\n",
       "      <td>2.0</td>\n",
       "      <td>Luxury,Performance</td>\n",
       "      <td>Compact</td>\n",
       "      <td>Coupe</td>\n",
       "      <td>28</td>\n",
       "      <td>18</td>\n",
       "      <td>3916</td>\n",
       "    </tr>\n",
       "    <tr>\n",
       "      <th>4</th>\n",
       "      <td>BMW</td>\n",
       "      <td>1 Series</td>\n",
       "      <td>2011</td>\n",
       "      <td>premium unleaded (required)</td>\n",
       "      <td>230.0</td>\n",
       "      <td>6.0</td>\n",
       "      <td>MANUAL</td>\n",
       "      <td>rear wheel drive</td>\n",
       "      <td>2.0</td>\n",
       "      <td>Luxury</td>\n",
       "      <td>Compact</td>\n",
       "      <td>Convertible</td>\n",
       "      <td>28</td>\n",
       "      <td>18</td>\n",
       "      <td>3916</td>\n",
       "    </tr>\n",
       "  </tbody>\n",
       "</table>\n",
       "</div>"
      ],
      "text/plain": [
       "  Make       Model  Year             Engine Fuel Type  Engine HP  \\\n",
       "0  BMW  1 Series M  2011  premium unleaded (required)      335.0   \n",
       "1  BMW    1 Series  2011  premium unleaded (required)      300.0   \n",
       "2  BMW    1 Series  2011  premium unleaded (required)      300.0   \n",
       "3  BMW    1 Series  2011  premium unleaded (required)      230.0   \n",
       "4  BMW    1 Series  2011  premium unleaded (required)      230.0   \n",
       "\n",
       "   Engine Cylinders Transmission Type     Driven_Wheels  Number of Doors  \\\n",
       "0               6.0            MANUAL  rear wheel drive              2.0   \n",
       "1               6.0            MANUAL  rear wheel drive              2.0   \n",
       "2               6.0            MANUAL  rear wheel drive              2.0   \n",
       "3               6.0            MANUAL  rear wheel drive              2.0   \n",
       "4               6.0            MANUAL  rear wheel drive              2.0   \n",
       "\n",
       "                         Market Category Vehicle Size Vehicle Style  \\\n",
       "0  Factory Tuner,Luxury,High-Performance      Compact         Coupe   \n",
       "1                     Luxury,Performance      Compact   Convertible   \n",
       "2                Luxury,High-Performance      Compact         Coupe   \n",
       "3                     Luxury,Performance      Compact         Coupe   \n",
       "4                                 Luxury      Compact   Convertible   \n",
       "\n",
       "   highway MPG  city mpg  Popularity  \n",
       "0           26        19        3916  \n",
       "1           28        19        3916  \n",
       "2           28        20        3916  \n",
       "3           28        18        3916  \n",
       "4           28        18        3916  "
      ]
     },
     "metadata": {},
     "output_type": "display_data"
    },
    {
     "data": {
      "text/plain": [
       "(9532, 15)"
      ]
     },
     "metadata": {},
     "output_type": "display_data"
    },
    {
     "data": {
      "text/plain": [
       "0    46135\n",
       "1    40650\n",
       "2    36350\n",
       "3    29450\n",
       "4    34500\n",
       "Name: MSRP, dtype: int64"
      ]
     },
     "metadata": {},
     "output_type": "display_data"
    },
    {
     "data": {
      "text/plain": [
       "(9532,)"
      ]
     },
     "metadata": {},
     "output_type": "display_data"
    }
   ],
   "source": [
    "# 特徴量Xと正解ラベルyの設定\n",
    "X = df_data.iloc[:, 0:-1]\n",
    "y = df_data.iloc[:, -1]\n",
    "\n",
    "# 特徴量Xと正解ラベルyの設定の正常終了を確認する\n",
    "display(X.head(5), X.shape)\n",
    "display(y.head(5), y.shape)"
   ]
  },
  {
   "cell_type": "code",
   "execution_count": 4,
   "metadata": {},
   "outputs": [
    {
     "data": {
      "text/plain": [
       "0    regular unleaded\n",
       "dtype: object"
      ]
     },
     "execution_count": 4,
     "metadata": {},
     "output_type": "execute_result"
    }
   ],
   "source": [
    "X['Engine Fuel Type'].mode()"
   ]
  },
  {
   "cell_type": "code",
   "execution_count": 5,
   "metadata": {},
   "outputs": [
    {
     "name": "stdout",
     "output_type": "stream",
     "text": [
      "0 : Make : object\n",
      "['BMW', 'Audi', 'FIAT', 'Mercedes-Benz', 'Chrysler', 'Nissan', 'Volvo', 'Mazda', 'Mitsubishi', 'Ferrari', 'Alfa Romeo', 'Toyota', 'McLaren', 'Maybach', 'Pontiac', 'Porsche', 'Saab', 'GMC', 'Hyundai', 'Plymouth', 'Honda', 'Oldsmobile', 'Suzuki', 'Ford', 'Cadillac', 'Kia', 'Bentley', 'Chevrolet', 'Dodge', 'Lamborghini', 'Lincoln', 'Subaru', 'Volkswagen', 'Spyker', 'Buick', 'Acura', 'Rolls-Royce', 'Maserati', 'Lexus', 'Aston Martin', 'Land Rover', 'Lotus', 'Infiniti', 'Scion', 'Genesis', 'HUMMER', 'Tesla', 'Bugatti']\n",
      "1 : Model : object\n",
      "['1 Series M', '1 Series', '100', '124 Spider', '190-Class', '2 Series', '200', '200SX', '240SX', '240', '2', '3 Series Gran Turismo', '3 Series', '300-Class', '3000GT', '300', '300M', '300ZX', '323', '350-Class', '350Z', '360', '370Z', '3', '4 Series Gran Coupe', '4 Series', '400-Class', '456M', '458 Italia', '4C', '4Runner', '5 Series Gran Turismo', '5 Series', '500-Class', '500e', '500', '500L', '500X', '560-Class', '570S', '575M', '57', '599', '5', '6 Series Gran Coupe', '6 Series', '600-Class', '6000', '612 Scaglietti', '626', '62', '650S Coupe', '650S Spider', '6', '7 Series', '718 Cayman', '740', '760', '780', '8 Series', '80', '850', '9-2X', '9-3 Griffin', '9月3日', '9-4X', '9月5日', '9-7X', '9000', '900', '90', '911', '928', '929', '940', '944', '960', '968', 'A3', 'A4 allroad', 'A4', 'A5', 'A6', 'A7', 'A8', 'Acadia Limited', 'Acadia', 'Accent', 'Acclaim', 'Accord Crosstour', 'Accord Hybrid', 'Accord Plug-In Hybrid', 'Accord', 'Achieva', 'ActiveHybrid 5', 'ActiveHybrid 7', 'Aerio', 'Aerostar', 'Alero', 'Allante', 'allroad quattro', 'allroad', 'ALPINA B6 Gran Coupe', 'ALPINA B7', 'Altima Hybrid', 'Altima', 'Amanti', 'AMG GT', 'Armada', 'Arnage', 'Aspen', 'Aspire', 'Astro Cargo', 'Astro', 'ATS Coupe', 'ATS-V', 'ATS', 'Aurora', 'Avalanche', 'Avalon Hybrid', 'Avalon', 'Avenger', 'Aventador', 'Aveo', 'Aviator', 'Axxess', 'Azera', 'Aztek', 'Azure T', 'Azure', 'B-Class Electric Drive', 'B-Series Pickup', 'B-Series Truck', 'B-Series', 'B9 Tribeca', 'Baja', 'Beetle Convertible', 'Beetle', 'Beretta', 'Black Diamond Avalanche', 'Blazer', 'Bolt EV', 'Bonneville', 'Borrego', 'Boxster', 'Bravada', 'Breeze', 'Bronco II', 'Bronco', 'Brooklands', 'Brougham', 'BRZ', 'C-Class', 'C-Max Hybrid', 'C30', 'C36 AMG', 'C43 AMG', 'C70', 'C8', 'Cabriolet', 'Cabrio', 'Cadenza', 'Caliber', 'California T', 'California', 'Camaro', 'Camry Hybrid', 'Camry Solara', 'Camry', 'Canyon', 'Caprice', 'Captiva Sport', 'Caravan', 'Carrera GT', 'Cascada', 'Catera', 'Cavalier', 'Cayenne', 'Cayman S', 'Cayman', 'CC', 'Celebrity', 'Celica', 'Century', 'Challenger', 'Charger', 'Chevy Van', 'Ciera', 'Cirrus', 'City Express', 'Civic CRX', 'Civic del Sol', 'Civic', 'C/K 1500 Series', 'C/K 2500 Series', 'CL-Class', 'CLA-Class', 'CL', 'Classic', 'CLK-Class', 'CLS-Class', 'Cobalt', 'Colorado', 'Colt', 'Concorde', 'Continental Flying Spur Speed', 'Continental Flying Spur', 'Continental GT Speed Convertible', 'Continental GT Speed', 'Continental GT', 'Continental GTC', 'Continental Supersports Convertible', 'Continental Supersports', 'Continental', 'Contour SVT', 'Contour', 'Corniche', 'Corolla iM', 'Corolla', 'Corrado', 'Corsica', 'Corvette Stingray', 'Corvette', 'Coupe', 'CR-V', 'CR-Z', 'Cressida', 'Crossfire', 'Crosstour', 'Crosstrek', 'Crown Victoria', 'Cruze Limited', 'Cruze', 'CT 200h', 'CT6', 'CTS Coupe', 'CTS-V Coupe', 'CTS-V Wagon', 'CTS-V', 'CTS Wagon', 'CTS', 'Cube', 'Custom Cruiser', 'Cutlass Calais', 'Cutlass Ciera', 'Cutlass Supreme', 'Cutlass', 'CX-3', 'CX-5', 'CX-7', 'CX-9', 'Dakota', 'Dart', 'Dawn', 'Daytona', 'DB7', 'DB9 GT', 'DB9', 'DBS', 'Defender', 'DeVille', 'Diablo', 'Diamante', 'Discovery Series II', 'Discovery Sport', 'Discovery', 'DTS', 'Durango', 'Dynasty', 'E-150', 'E-250', 'E-Class', 'e-Golf', 'E-Series Van', 'E-Series Wagon', 'E55 AMG', 'ECHO', 'Eclipse Spyder', 'Eclipse', 'Edge', 'Eighty-Eight Royale', 'Eighty-Eight', 'Elantra Coupe', 'Elantra GT', 'Elantra Touring', 'Elantra', 'Eldorado', 'Electra', 'Element', 'Elise', 'Enclave', 'Encore', 'Endeavor', 'Entourage', 'Envision', 'Envoy XL', 'Envoy XUV', 'Envoy', 'Enzo', 'Eos', 'Equator', 'Equinox', 'Equus', 'ES 250', 'ES 300h', 'ES 300', 'ES 330', 'ES 350', 'Escalade ESV', 'Escalade EXT', 'Escalade Hybrid', 'Escalade', 'Escape Hybrid', 'Escape', 'Escort', 'Esprit', 'Esteem', 'EuroVan', 'Evora 400', 'Evora', 'EX35', 'Excel', 'Exige', 'EX', 'Expedition', 'Explorer Sport Trac', 'Explorer Sport', 'Explorer', 'Expo', 'Express', 'F-150 Heritage', 'F-150 SVT Lightning', 'F-150', 'F-250', 'F12 Berlinetta', 'F430', 'Festiva', 'FF', 'Fiesta', 'Firebird', 'Fit EV', 'Fit', 'Five Hundred', 'FJ Cruiser', 'Fleetwood', 'Flex', 'Flying Spur', 'Focus RS', 'Focus ST', 'Focus', 'Forenza', 'Forester', 'Forte', 'Fox', 'FR-S', 'Freelander', 'Freestar', 'Freestyle', 'Frontier', 'Fusion Hybrid', 'Fusion', 'FX35', 'FX45', 'FX50', 'FX', 'G-Class', 'G Convertible', 'G Coupe', 'G Sedan', 'G20', 'G35', 'G37 Convertible', 'G37 Coupe', 'G37 Sedan', 'G37', 'G3', 'G5', 'G6', 'G80', 'G8', 'Galant', 'Gallardo', 'Genesis Coupe', 'Genesis', 'Ghibli', 'Ghost Series II', 'Ghost', 'GL-Class', 'GLA-Class', 'GLC-Class', 'GLE-Class Coupe', 'GLE-Class', 'GLI', 'GLK-Class', 'GLS-Class', 'Golf Alltrack', 'Golf GTI', 'Golf R', 'Golf SportWagen', 'Golf', 'Grand Am', 'Grand Caravan', 'Grand Prix', 'Grand Vitara', 'Grand Voyager', 'GranSport', 'GranTurismo Convertible', 'GranTurismo', 'GS 200t', 'GS 300', 'GS 350', 'GS 400', 'GS 430', 'GS 450h', 'GS 460', 'GS F', 'GT-R', 'GT', 'GTI', 'GTO', 'GX 460', 'GX 470', 'H3', 'H3T', 'HHR', 'Highlander Hybrid', 'Highlander', 'Horizon', 'HR-V', 'HS 250h', 'Huracan', 'i-MiEV', 'I30', 'I35', 'i3', 'iA', 'ILX Hybrid', 'ILX', 'Impala Limited', 'Impala', 'Imperial', 'Impreza WRX', 'Impreza', 'iM', 'Insight', 'Integra', 'Intrepid', 'Intrigue', 'iQ', 'IS 200t', 'IS 250 C', 'IS 250', 'IS 300', 'IS 350 C', 'IS 350', 'IS F', 'J30', 'Jetta GLI', 'Jetta Hybrid', 'Jetta SportWagen', 'Jetta', 'Jimmy', 'Journey', 'Juke', 'Justy', 'JX', 'K900', 'Kizashi', 'LaCrosse', 'Lancer Evolution', 'Lancer Sportback', 'Lancer', 'Land Cruiser', 'Landaulet', 'Laser', 'Le Baron', 'Le Mans', 'Leaf', 'Legacy', 'Legend', 'LeSabre', 'Levante', 'LHS', 'Loyale', 'LR2', 'LR3', 'LR4', 'LS 400', 'LS 430', 'LS 460', 'LS 600h L', 'LS', 'LSS', 'LTD Crown Victoria', 'Lucerne', 'Lumina Minivan', 'Lumina', 'LX 470', 'LX 570', 'M-Class', 'M2', 'M30', 'M35', 'M37', 'M3', 'M45', 'M4', 'M56', 'M5', 'M6 Gran Coupe', 'M6', 'Macan', 'Magnum', 'Malibu Classic', 'Malibu Hybrid', 'Malibu Limited', 'Malibu Maxx', 'Malibu', 'Mark LT', 'Mark VIII', 'Mark VII', 'Matrix', 'Maxima', 'Maybach', 'Mazdaspeed 3', 'Mazdaspeed 6', 'Mazdaspeed MX-5 Miata', 'Mazdaspeed Protege', 'M', 'MDX', 'Metris', 'Metro', 'Mighty Max Pickup', 'Millenia', 'Mirage G4', 'Mirage', 'MKC', 'MKS', 'MKT', 'MKX', 'MKZ Hybrid', 'MKZ', 'ML55 AMG', 'Model S', 'Monaco', 'Montana SV6', 'Montana', 'Monte Carlo', 'Montero Sport', 'Montero', 'MPV', 'MR2 Spyder', 'MR2', 'Mulsanne', 'Murano CrossCabriolet', 'Murano', 'Murcielago', 'Mustang SVT Cobra', 'Mustang', 'MX-3', 'MX-5 Miata', 'MX-6', 'Navajo', 'Navigator', 'Neon', 'New Beetle', 'New Yorker', 'Ninety-Eight', 'Nitro', 'NSX', 'NV200', 'NX 200t', 'NX 300h', 'NX', 'Odyssey', 'Optima Hybrid', 'Optima', 'Outback', 'Outlander Sport', 'Outlander', 'Pacifica', 'Panamera', 'Park Avenue', 'Park Ward', 'Paseo', 'Passat', 'Passport', 'Pathfinder', 'Phaeton', 'Phantom Coupe', 'Phantom Drophead Coupe', 'Phantom', 'Pickup', 'Pilot', 'Prelude', 'Previa', 'Prius c', 'Prius Prime', 'Prius v', 'Prius', 'Prizm', 'Probe', 'Protege5', 'Protege', 'Prowler', 'PT Cruiser', 'Q3', 'Q40', 'Q45', 'Q50', 'Q5', 'Q60 Convertible', 'Q60 Coupe', 'Q70', 'Q7', 'Quattroporte', 'Quest', 'QX4', 'QX50', 'QX56', 'QX60', 'QX70', 'QX80', 'QX', 'R-Class', 'R32', 'R8', 'Rabbit', 'Raider', 'Rainier', 'Rally Wagon', 'RAM 150', 'RAM 250', 'Ram 50 Pickup', 'Ram Cargo', 'Ram Pickup 1500', 'Ram Van', 'Ram Wagon', 'Ramcharger', 'Range Rover Evoque', 'Range Rover Sport', 'Range Rover', 'Ranger', 'Rapide S', 'Rapide', 'RAV4 EV', 'RAV4 Hybrid', 'RAV4', 'RC 200t', 'RC 300', 'RC 350', 'RC F', 'RDX', 'Reatta', 'Regal', 'Regency', 'Rendezvous', 'Reno', 'Reventon', 'Ridgeline', 'Rio', 'Riviera', 'RL', 'RLX', 'Roadmaster', 'Rogue Select', 'Rogue', 'Rondo', 'Routan', 'RS 4', 'RS 5', 'RS 6', 'RS 7', 'RSX', 'RX 300', 'RX 330', 'RX 350', 'RX 400h', 'RX 450h', 'RX-7', 'RX-8', 'S-10 Blazer', 'S-10', 'S-15 Jimmy', 'S-15', 'S-Class', 'S2000', 'S3', 'S40', 'S4', 'S5', 'S60 Cross Country', 'S60', 'S6', 'S70', 'S7', 'S80', 'S8', 'S90', 'Safari Cargo', 'Safari', 'Samurai', 'Santa Fe Sport', 'Santa Fe', 'Savana Cargo', 'Savana', 'SC 300', 'SC 400', 'SC 430', 'Scoupe', 'Sebring', 'Sedona', 'Sentra', 'Sephia', 'Sequoia', 'Seville', 'Shadow', 'Shelby GT350', 'Shelby GT500', 'Sidekick', 'Sienna', 'Sierra 1500 Classic', 'Sierra 1500 Hybrid', 'Sierra 1500', 'Sierra 1500HD', 'Sierra C3', 'Sierra Classic 1500', 'Sigma', 'Silhouette', 'Silver Seraph', 'Silverado 1500 Classic', 'Silverado 1500 Hybrid', 'Silverado 1500', 'Sixty Special', 'Skylark', 'SL-Class', 'SLC-Class', 'SLK-Class', 'SLR McLaren', 'SLS AMG GT Final Edition', 'SLS AMG GT', 'SLS AMG', 'SLX', 'Solstice', 'Sonata Hybrid', 'Sonata', 'Sonic', 'Sonoma', 'Sorento', 'Soul EV', 'Soul', 'Spark EV', 'Spark', 'Spectra', 'Spirit', 'Sportage', 'Sportvan', 'Spyder', 'SQ5', 'SRT Viper', 'SRX', 'SS', 'SSR', 'Stanza', 'Stealth', 'Stratus', 'STS-V', 'STS', 'Suburban', 'Sunbird', 'Sundance', 'Sunfire', 'Superamerica', 'Supersports Convertible ISR', 'Supra', 'SVX', 'Swift', 'SX4', 'Syclone', 'T100', 'Tacoma', 'Tahoe Hybrid', 'Tahoe Limited/Z71', 'Tahoe', 'Taurus X', 'Taurus', 'TC', 'tC', 'Tempo', 'Tercel', 'Terrain', 'Terraza', 'Thunderbird', 'Tiburon', 'Tiguan', 'Titan', 'TL', 'TLX', 'Toronado', 'Torrent', 'Touareg 2', 'Touareg', 'Town and Country', 'Town Car', 'Tracker', 'TrailBlazer EXT', 'TrailBlazer', 'Trans Sport', 'Transit Connect', 'Transit Wagon', 'Traverse', 'Trax', 'Tribeca', 'Tribute Hybrid', 'Tribute', 'Truck', 'TSX Sport Wagon', 'TSX', 'TT RS', 'TT', 'TTS', 'Tucson', 'Tundra', 'Typhoon', 'Uplander', 'V12 Vanquish', 'V12 Vantage S', 'V12 Vantage', 'V40', 'V50', 'V60 Cross Country', 'V60', 'V70', 'V8 Vantage', 'V8', 'V90', 'Vanagon', 'Vandura', 'Van', 'Vanquish', 'Vanwagon', 'Veloster', 'Venture', 'Venza', 'Veracruz', 'Verano', 'Verona', 'Versa Note', 'Versa', 'Veyron 16.4', 'Vibe', 'Vigor', 'Viper', 'Virage', 'Vitara', 'Voyager', 'Windstar Cargo', 'Windstar', 'Wraith', 'WRX', 'X-90', 'X1', 'X3', 'X4', 'X5 M', 'X5', 'X6 M', 'X6', 'xA', 'xB', 'XC60', 'XC70', 'XC90', 'XC', 'xD', 'XG300', 'XG350', 'XL-7', 'XL7', 'XLR-V', 'XLR', 'XT5', 'Xterra', 'XTS', 'XT', 'XV Crosstrek', 'Yaris iA', 'Yaris', 'Yukon Denali', 'Yukon Hybrid', 'Yukon XL', 'Yukon', 'Z3', 'Z4 M', 'Z4', 'Z8', 'ZDX', 'Zephyr']\n",
      "2 : Year : int64\n",
      "種類：28、最小値：1990.000000、最大値：2017.000000、欠損データ有無：0\n",
      "3 : Engine Fuel Type : object\n",
      "['premium unleaded (required)', 'regular unleaded', 'premium unleaded (recommended)', 'flex-fuel (unleaded/E85)', 'diesel', 'electric', 'flex-fuel (premium unleaded recommended/E85)', 'natural gas', 'flex-fuel (premium unleaded required/E85)', 'flex-fuel (unleaded/natural gas)', nan]\n",
      "4 : Engine HP : float64\n",
      "種類：351、最小値：55.000000、最大値：1001.000000、欠損データ有無：53\n",
      "5 : Engine Cylinders : float64\n",
      "種類：10、最小値：0.000000、最大値：16.000000、欠損データ有無：22\n",
      "6 : Transmission Type : object\n",
      "['MANUAL', 'AUTOMATIC', 'AUTOMATED_MANUAL', 'DIRECT_DRIVE', 'UNKNOWN']\n",
      "7 : Driven_Wheels : object\n",
      "['rear wheel drive', 'front wheel drive', 'all wheel drive', 'four wheel drive']\n",
      "8 : Number of Doors : float64\n",
      "種類：4、最小値：2.000000、最大値：4.000000、欠損データ有無：6\n",
      "9 : Market Category : object\n",
      "['Factory Tuner,Luxury,High-Performance', 'Luxury,Performance', 'Luxury,High-Performance', 'Luxury', 'Performance', 'Flex Fuel', 'Flex Fuel,Performance', nan, 'Hatchback', 'Hatchback,Luxury,Performance', 'Hatchback,Luxury', 'Luxury,High-Performance,Hybrid', 'Diesel,Luxury', 'Hatchback,Performance', 'Hatchback,Factory Tuner,Performance', 'High-Performance', 'Factory Tuner,High-Performance', 'Exotic,High-Performance', 'Exotic,Factory Tuner,High-Performance', 'Factory Tuner,Performance', 'Crossover', 'Exotic,Luxury', 'Exotic,Luxury,High-Performance', 'Exotic,Luxury,Performance', 'Factory Tuner,Luxury,Performance', 'Flex Fuel,Luxury', 'Crossover,Luxury', 'Hatchback,Factory Tuner,Luxury,Performance', 'Crossover,Hatchback', 'Hybrid', 'Luxury,Performance,Hybrid', 'Crossover,Luxury,Performance', 'Exotic,Factory Tuner,Luxury,High-Performance', 'Flex Fuel,Luxury,High-Performance', 'Crossover,Flex Fuel', 'Diesel', 'Hatchback,Diesel', 'Crossover,Luxury,Diesel', 'Crossover,Luxury,High-Performance', 'Exotic,Flex Fuel,Factory Tuner,Luxury,High-Performance', 'Exotic,Flex Fuel,Luxury,High-Performance', 'Exotic,Factory Tuner,Luxury,Performance', 'Hatchback,Hybrid', 'Crossover,Hybrid', 'Hatchback,Luxury,Hybrid', 'Flex Fuel,Luxury,Performance', 'Crossover,Performance', 'Luxury,Hybrid', 'Crossover,Flex Fuel,Luxury,Performance', 'Crossover,Flex Fuel,Luxury', 'Crossover,Flex Fuel,Performance', 'Hatchback,Factory Tuner,High-Performance', 'Hatchback,Flex Fuel', 'Factory Tuner,Luxury', 'Crossover,Factory Tuner,Luxury,High-Performance', 'Crossover,Factory Tuner,Luxury,Performance', 'Crossover,Hatchback,Performance', 'Crossover,Hatchback,Factory Tuner,Performance', 'Flex Fuel,Hybrid', 'Flex Fuel,Performance,Hybrid', 'Crossover,Exotic,Luxury,High-Performance', 'Crossover,Exotic,Luxury,Performance', 'Exotic,Performance', 'Exotic,Luxury,High-Performance,Hybrid', 'Crossover,Luxury,Hybrid', 'Flex Fuel,Factory Tuner,Luxury,High-Performance', 'Performance,Hybrid', 'Crossover,Factory Tuner,Performance', 'Crossover,Diesel', 'Flex Fuel,Diesel', 'Crossover,Hatchback,Luxury']\n",
      "10 : Vehicle Size : object\n",
      "['Compact', 'Midsize', 'Large']\n",
      "11 : Vehicle Style : object\n",
      "['Coupe', 'Convertible', 'Sedan', 'Wagon', '4dr Hatchback', '2dr Hatchback', '4dr SUV', 'Passenger Minivan', 'Cargo Minivan', 'Crew Cab Pickup', 'Regular Cab Pickup', 'Extended Cab Pickup', '2dr SUV', 'Cargo Van', 'Convertible SUV', 'Passenger Van']\n",
      "12 : highway MPG : int64\n",
      "種類：56、最小値：12.000000、最大値：111.000000、欠損データ有無：0\n",
      "13 : city mpg : int64\n",
      "種類：67、最小値：7.000000、最大値：137.000000、欠損データ有無：0\n",
      "14 : Popularity : int64\n",
      "種類：48、最小値：2.000000、最大値：5657.000000、欠損データ有無：0\n"
     ]
    }
   ],
   "source": [
    "for i in range(X.shape[1]):\n",
    "    print('%d : %s : %s' %(i, X.iloc[:,i].name,X.iloc[:,i].dtypes))\n",
    "\n",
    "    if X.iloc[:,i].dtypes == object:\n",
    "        print(list(X.iloc[:,i].unique()))\n",
    "    else:\n",
    "        print('種類：%d、最小値：%f、最大値：%f、欠損データ有無：%s' %(len(X.iloc[:,i].unique()),X.iloc[:,i].min(),X.iloc[:,i].max(), X.isnull().sum()[i]))"
   ]
  },
  {
   "cell_type": "markdown",
   "metadata": {},
   "source": [
    "## 2. データの加工\n",
    "- 欠損状況の確認\n",
    "- 基本統計量の確認\n",
    "- yearに関する新しい特徴量の作成\n",
    "- 欠損値の補完\n",
    "- 使用する特徴量の選択"
   ]
  },
  {
   "cell_type": "markdown",
   "metadata": {},
   "source": [
    "#### ●欠損状況の確認"
   ]
  },
  {
   "cell_type": "code",
   "execution_count": 6,
   "metadata": {},
   "outputs": [
    {
     "data": {
      "text/plain": [
       "Make                    0\n",
       "Model                   0\n",
       "Year                    0\n",
       "Engine Fuel Type        3\n",
       "Engine HP              53\n",
       "Engine Cylinders       22\n",
       "Transmission Type       0\n",
       "Driven_Wheels           0\n",
       "Number of Doors         6\n",
       "Market Category      2999\n",
       "Vehicle Size            0\n",
       "Vehicle Style           0\n",
       "highway MPG             0\n",
       "city mpg                0\n",
       "Popularity              0\n",
       "MSRP                    0\n",
       "dtype: int64"
      ]
     },
     "metadata": {},
     "output_type": "display_data"
    }
   ],
   "source": [
    "display(df_data.isnull().sum())"
   ]
  },
  {
   "cell_type": "markdown",
   "metadata": {},
   "source": [
    "#### ●基本統計量の確認"
   ]
  },
  {
   "cell_type": "code",
   "execution_count": 7,
   "metadata": {},
   "outputs": [
    {
     "data": {
      "text/html": [
       "<div>\n",
       "<style scoped>\n",
       "    .dataframe tbody tr th:only-of-type {\n",
       "        vertical-align: middle;\n",
       "    }\n",
       "\n",
       "    .dataframe tbody tr th {\n",
       "        vertical-align: top;\n",
       "    }\n",
       "\n",
       "    .dataframe thead th {\n",
       "        text-align: right;\n",
       "    }\n",
       "</style>\n",
       "<table border=\"1\" class=\"dataframe\">\n",
       "  <thead>\n",
       "    <tr style=\"text-align: right;\">\n",
       "      <th></th>\n",
       "      <th>Year</th>\n",
       "      <th>Engine HP</th>\n",
       "      <th>Engine Cylinders</th>\n",
       "      <th>Number of Doors</th>\n",
       "      <th>highway MPG</th>\n",
       "      <th>city mpg</th>\n",
       "      <th>Popularity</th>\n",
       "      <th>MSRP</th>\n",
       "    </tr>\n",
       "  </thead>\n",
       "  <tbody>\n",
       "    <tr>\n",
       "      <th>count</th>\n",
       "      <td>9532.000000</td>\n",
       "      <td>9479.000000</td>\n",
       "      <td>9510.000000</td>\n",
       "      <td>9526.000000</td>\n",
       "      <td>9532.000000</td>\n",
       "      <td>9532.000000</td>\n",
       "      <td>9532.000000</td>\n",
       "      <td>9.532000e+03</td>\n",
       "    </tr>\n",
       "    <tr>\n",
       "      <th>mean</th>\n",
       "      <td>2010.399077</td>\n",
       "      <td>249.478637</td>\n",
       "      <td>5.632387</td>\n",
       "      <td>3.435335</td>\n",
       "      <td>26.605120</td>\n",
       "      <td>19.720835</td>\n",
       "      <td>1556.407260</td>\n",
       "      <td>4.078378e+04</td>\n",
       "    </tr>\n",
       "    <tr>\n",
       "      <th>std</th>\n",
       "      <td>7.549785</td>\n",
       "      <td>109.239858</td>\n",
       "      <td>1.786855</td>\n",
       "      <td>0.881758</td>\n",
       "      <td>8.306401</td>\n",
       "      <td>8.906915</td>\n",
       "      <td>1443.035732</td>\n",
       "      <td>6.264147e+04</td>\n",
       "    </tr>\n",
       "    <tr>\n",
       "      <th>min</th>\n",
       "      <td>1990.000000</td>\n",
       "      <td>55.000000</td>\n",
       "      <td>0.000000</td>\n",
       "      <td>2.000000</td>\n",
       "      <td>12.000000</td>\n",
       "      <td>7.000000</td>\n",
       "      <td>2.000000</td>\n",
       "      <td>2.000000e+03</td>\n",
       "    </tr>\n",
       "    <tr>\n",
       "      <th>25%</th>\n",
       "      <td>2007.000000</td>\n",
       "      <td>170.000000</td>\n",
       "      <td>4.000000</td>\n",
       "      <td>2.000000</td>\n",
       "      <td>22.000000</td>\n",
       "      <td>16.000000</td>\n",
       "      <td>549.000000</td>\n",
       "      <td>2.114375e+04</td>\n",
       "    </tr>\n",
       "    <tr>\n",
       "      <th>50%</th>\n",
       "      <td>2015.000000</td>\n",
       "      <td>227.000000</td>\n",
       "      <td>6.000000</td>\n",
       "      <td>4.000000</td>\n",
       "      <td>26.000000</td>\n",
       "      <td>18.000000</td>\n",
       "      <td>1385.000000</td>\n",
       "      <td>2.999500e+04</td>\n",
       "    </tr>\n",
       "    <tr>\n",
       "      <th>75%</th>\n",
       "      <td>2016.000000</td>\n",
       "      <td>300.000000</td>\n",
       "      <td>6.000000</td>\n",
       "      <td>4.000000</td>\n",
       "      <td>30.000000</td>\n",
       "      <td>22.000000</td>\n",
       "      <td>2009.000000</td>\n",
       "      <td>4.222000e+04</td>\n",
       "    </tr>\n",
       "    <tr>\n",
       "      <th>max</th>\n",
       "      <td>2017.000000</td>\n",
       "      <td>1001.000000</td>\n",
       "      <td>16.000000</td>\n",
       "      <td>4.000000</td>\n",
       "      <td>111.000000</td>\n",
       "      <td>137.000000</td>\n",
       "      <td>5657.000000</td>\n",
       "      <td>2.065902e+06</td>\n",
       "    </tr>\n",
       "  </tbody>\n",
       "</table>\n",
       "</div>"
      ],
      "text/plain": [
       "              Year    Engine HP  Engine Cylinders  Number of Doors  \\\n",
       "count  9532.000000  9479.000000       9510.000000      9526.000000   \n",
       "mean   2010.399077   249.478637          5.632387         3.435335   \n",
       "std       7.549785   109.239858          1.786855         0.881758   \n",
       "min    1990.000000    55.000000          0.000000         2.000000   \n",
       "25%    2007.000000   170.000000          4.000000         2.000000   \n",
       "50%    2015.000000   227.000000          6.000000         4.000000   \n",
       "75%    2016.000000   300.000000          6.000000         4.000000   \n",
       "max    2017.000000  1001.000000         16.000000         4.000000   \n",
       "\n",
       "       highway MPG     city mpg   Popularity          MSRP  \n",
       "count  9532.000000  9532.000000  9532.000000  9.532000e+03  \n",
       "mean     26.605120    19.720835  1556.407260  4.078378e+04  \n",
       "std       8.306401     8.906915  1443.035732  6.264147e+04  \n",
       "min      12.000000     7.000000     2.000000  2.000000e+03  \n",
       "25%      22.000000    16.000000   549.000000  2.114375e+04  \n",
       "50%      26.000000    18.000000  1385.000000  2.999500e+04  \n",
       "75%      30.000000    22.000000  2009.000000  4.222000e+04  \n",
       "max     111.000000   137.000000  5657.000000  2.065902e+06  "
      ]
     },
     "execution_count": 7,
     "metadata": {},
     "output_type": "execute_result"
    }
   ],
   "source": [
    "df_data.describe()"
   ]
  },
  {
   "cell_type": "markdown",
   "metadata": {},
   "source": [
    "#### ●yearに関する特徴量の作成\n",
    "- 特徴量作成の1つの例として、yearのデータをもとに車両が販売されてからの経過年数という新しい特徴量を生成する。"
   ]
  },
  {
   "cell_type": "code",
   "execution_count": 8,
   "metadata": {},
   "outputs": [
    {
     "data": {
      "text/html": [
       "<div>\n",
       "<style scoped>\n",
       "    .dataframe tbody tr th:only-of-type {\n",
       "        vertical-align: middle;\n",
       "    }\n",
       "\n",
       "    .dataframe tbody tr th {\n",
       "        vertical-align: top;\n",
       "    }\n",
       "\n",
       "    .dataframe thead th {\n",
       "        text-align: right;\n",
       "    }\n",
       "</style>\n",
       "<table border=\"1\" class=\"dataframe\">\n",
       "  <thead>\n",
       "    <tr style=\"text-align: right;\">\n",
       "      <th></th>\n",
       "      <th>Make</th>\n",
       "      <th>Model</th>\n",
       "      <th>Year</th>\n",
       "      <th>Engine Fuel Type</th>\n",
       "      <th>Engine HP</th>\n",
       "      <th>Engine Cylinders</th>\n",
       "      <th>Transmission Type</th>\n",
       "      <th>Driven_Wheels</th>\n",
       "      <th>Number of Doors</th>\n",
       "      <th>Market Category</th>\n",
       "      <th>Vehicle Size</th>\n",
       "      <th>Vehicle Style</th>\n",
       "      <th>highway MPG</th>\n",
       "      <th>city mpg</th>\n",
       "      <th>Popularity</th>\n",
       "      <th>Duration Since Production</th>\n",
       "    </tr>\n",
       "  </thead>\n",
       "  <tbody>\n",
       "    <tr>\n",
       "      <th>0</th>\n",
       "      <td>BMW</td>\n",
       "      <td>1 Series M</td>\n",
       "      <td>2011</td>\n",
       "      <td>premium unleaded (required)</td>\n",
       "      <td>335.0</td>\n",
       "      <td>6.0</td>\n",
       "      <td>MANUAL</td>\n",
       "      <td>rear wheel drive</td>\n",
       "      <td>2.0</td>\n",
       "      <td>Factory Tuner,Luxury,High-Performance</td>\n",
       "      <td>Compact</td>\n",
       "      <td>Coupe</td>\n",
       "      <td>26</td>\n",
       "      <td>19</td>\n",
       "      <td>3916</td>\n",
       "      <td>6</td>\n",
       "    </tr>\n",
       "    <tr>\n",
       "      <th>1</th>\n",
       "      <td>BMW</td>\n",
       "      <td>1 Series</td>\n",
       "      <td>2011</td>\n",
       "      <td>premium unleaded (required)</td>\n",
       "      <td>300.0</td>\n",
       "      <td>6.0</td>\n",
       "      <td>MANUAL</td>\n",
       "      <td>rear wheel drive</td>\n",
       "      <td>2.0</td>\n",
       "      <td>Luxury,Performance</td>\n",
       "      <td>Compact</td>\n",
       "      <td>Convertible</td>\n",
       "      <td>28</td>\n",
       "      <td>19</td>\n",
       "      <td>3916</td>\n",
       "      <td>6</td>\n",
       "    </tr>\n",
       "    <tr>\n",
       "      <th>2</th>\n",
       "      <td>BMW</td>\n",
       "      <td>1 Series</td>\n",
       "      <td>2011</td>\n",
       "      <td>premium unleaded (required)</td>\n",
       "      <td>300.0</td>\n",
       "      <td>6.0</td>\n",
       "      <td>MANUAL</td>\n",
       "      <td>rear wheel drive</td>\n",
       "      <td>2.0</td>\n",
       "      <td>Luxury,High-Performance</td>\n",
       "      <td>Compact</td>\n",
       "      <td>Coupe</td>\n",
       "      <td>28</td>\n",
       "      <td>20</td>\n",
       "      <td>3916</td>\n",
       "      <td>6</td>\n",
       "    </tr>\n",
       "    <tr>\n",
       "      <th>3</th>\n",
       "      <td>BMW</td>\n",
       "      <td>1 Series</td>\n",
       "      <td>2011</td>\n",
       "      <td>premium unleaded (required)</td>\n",
       "      <td>230.0</td>\n",
       "      <td>6.0</td>\n",
       "      <td>MANUAL</td>\n",
       "      <td>rear wheel drive</td>\n",
       "      <td>2.0</td>\n",
       "      <td>Luxury,Performance</td>\n",
       "      <td>Compact</td>\n",
       "      <td>Coupe</td>\n",
       "      <td>28</td>\n",
       "      <td>18</td>\n",
       "      <td>3916</td>\n",
       "      <td>6</td>\n",
       "    </tr>\n",
       "    <tr>\n",
       "      <th>4</th>\n",
       "      <td>BMW</td>\n",
       "      <td>1 Series</td>\n",
       "      <td>2011</td>\n",
       "      <td>premium unleaded (required)</td>\n",
       "      <td>230.0</td>\n",
       "      <td>6.0</td>\n",
       "      <td>MANUAL</td>\n",
       "      <td>rear wheel drive</td>\n",
       "      <td>2.0</td>\n",
       "      <td>Luxury</td>\n",
       "      <td>Compact</td>\n",
       "      <td>Convertible</td>\n",
       "      <td>28</td>\n",
       "      <td>18</td>\n",
       "      <td>3916</td>\n",
       "      <td>6</td>\n",
       "    </tr>\n",
       "  </tbody>\n",
       "</table>\n",
       "</div>"
      ],
      "text/plain": [
       "  Make       Model  Year             Engine Fuel Type  Engine HP  \\\n",
       "0  BMW  1 Series M  2011  premium unleaded (required)      335.0   \n",
       "1  BMW    1 Series  2011  premium unleaded (required)      300.0   \n",
       "2  BMW    1 Series  2011  premium unleaded (required)      300.0   \n",
       "3  BMW    1 Series  2011  premium unleaded (required)      230.0   \n",
       "4  BMW    1 Series  2011  premium unleaded (required)      230.0   \n",
       "\n",
       "   Engine Cylinders Transmission Type     Driven_Wheels  Number of Doors  \\\n",
       "0               6.0            MANUAL  rear wheel drive              2.0   \n",
       "1               6.0            MANUAL  rear wheel drive              2.0   \n",
       "2               6.0            MANUAL  rear wheel drive              2.0   \n",
       "3               6.0            MANUAL  rear wheel drive              2.0   \n",
       "4               6.0            MANUAL  rear wheel drive              2.0   \n",
       "\n",
       "                         Market Category Vehicle Size Vehicle Style  \\\n",
       "0  Factory Tuner,Luxury,High-Performance      Compact         Coupe   \n",
       "1                     Luxury,Performance      Compact   Convertible   \n",
       "2                Luxury,High-Performance      Compact         Coupe   \n",
       "3                     Luxury,Performance      Compact         Coupe   \n",
       "4                                 Luxury      Compact   Convertible   \n",
       "\n",
       "   highway MPG  city mpg  Popularity  Duration Since Production  \n",
       "0           26        19        3916                          6  \n",
       "1           28        19        3916                          6  \n",
       "2           28        20        3916                          6  \n",
       "3           28        18        3916                          6  \n",
       "4           28        18        3916                          6  "
      ]
     },
     "metadata": {},
     "output_type": "display_data"
    }
   ],
   "source": [
    "# 2017年を基準に車両が販売されてからの経過年数を新しい特徴量として生成する\n",
    "X['Duration Since Production'] = 2017 - X['Year']\n",
    "display(X.head(5))"
   ]
  },
  {
   "cell_type": "markdown",
   "metadata": {},
   "source": [
    "#### <font color=blue>・マーケットカテゴリをone-hot化</font>"
   ]
  },
  {
   "cell_type": "code",
   "execution_count": 9,
   "metadata": {},
   "outputs": [],
   "source": [
    "MC = ['Luxury','High-Performance','Performance','Flex Fuel','Hatchback','Hybrid','Diesel','Factory Tuner','Exotic','Crossover']\n",
    "for i in MC:\n",
    "    X['Market Category '+i] = X['Market Category'].str.contains(i)*1\n",
    "    X['Market Category '+i] = X['Market Category '+i].fillna(0)\n",
    "\n",
    "X = X.drop('Market Category',axis=1)"
   ]
  },
  {
   "cell_type": "markdown",
   "metadata": {},
   "source": [
    "#### <font color=blue>・Vehicle Sizeをリスト化</font>"
   ]
  },
  {
   "cell_type": "code",
   "execution_count": 10,
   "metadata": {},
   "outputs": [],
   "source": [
    "VS_dict = {'Compact':1, 'Midsize':2, 'Large':3 }\n",
    "X['Vehicle Size'] = X['Vehicle Size'].map(VS_dict)"
   ]
  },
  {
   "cell_type": "markdown",
   "metadata": {},
   "source": [
    "#### ●欠損値の補完"
   ]
  },
  {
   "cell_type": "code",
   "execution_count": 11,
   "metadata": {
    "scrolled": false
   },
   "outputs": [
    {
     "data": {
      "text/plain": [
       "Make                                0\n",
       "Model                               0\n",
       "Year                                0\n",
       "Engine Fuel Type                    3\n",
       "Engine HP                           0\n",
       "Engine Cylinders                    0\n",
       "Transmission Type                   0\n",
       "Driven_Wheels                       0\n",
       "Number of Doors                     0\n",
       "Vehicle Size                        0\n",
       "Vehicle Style                       0\n",
       "highway MPG                         0\n",
       "city mpg                            0\n",
       "Popularity                          0\n",
       "Duration Since Production           0\n",
       "Market Category Luxury              0\n",
       "Market Category High-Performance    0\n",
       "Market Category Performance         0\n",
       "Market Category Flex Fuel           0\n",
       "Market Category Hatchback           0\n",
       "Market Category Hybrid              0\n",
       "Market Category Diesel              0\n",
       "Market Category Factory Tuner       0\n",
       "Market Category Exotic              0\n",
       "Market Category Crossover           0\n",
       "dtype: int64"
      ]
     },
     "metadata": {},
     "output_type": "display_data"
    }
   ],
   "source": [
    "# Engine HP, Engine Cylinders, Number of Doorsの欠損値を中央値で補完する\n",
    "X = X.fillna(X.median())\n",
    "\n",
    "# 欠損が補完されたことを確認する\n",
    "display(X.isnull().sum())"
   ]
  },
  {
   "cell_type": "markdown",
   "metadata": {},
   "source": [
    "#### <font color=blue>・モデルを削除する"
   ]
  },
  {
   "cell_type": "code",
   "execution_count": 12,
   "metadata": {},
   "outputs": [],
   "source": [
    "X = X.drop('Year',axis=1)\n",
    "X = X.drop('Model',axis=1)"
   ]
  },
  {
   "cell_type": "markdown",
   "metadata": {},
   "source": [
    "#### <font color = blue>・One-hot-Vectle化する"
   ]
  },
  {
   "cell_type": "code",
   "execution_count": 16,
   "metadata": {},
   "outputs": [],
   "source": [
    "X_ohe = pd.get_dummies(X)"
   ]
  },
  {
   "cell_type": "markdown",
   "metadata": {},
   "source": [
    "#### ・カテゴリをリスト化する"
   ]
  },
  {
   "cell_type": "code",
   "execution_count": 17,
   "metadata": {},
   "outputs": [],
   "source": [
    "# from sklearn.preprocessing import LabelEncoder\n",
    "# for i in range(X_complement.shape[1]):\n",
    "#     if X_complement.iloc[:,i].dtypes == object:\n",
    "#         lbl = LabelEncoder()\n",
    "#         lbl.fit(list(X_complement.iloc[:,i].values)\n",
    "#         lbl.transform(list(X_complement .iloc[:,i].values))"
   ]
  },
  {
   "cell_type": "markdown",
   "metadata": {},
   "source": [
    "#### ●使用する特徴量の選択"
   ]
  },
  {
   "cell_type": "code",
   "execution_count": 15,
   "metadata": {
    "scrolled": false
   },
   "outputs": [],
   "source": [
    "# # 特徴量を選択する\n",
    "# X_choice = X_complement[['Engine HP', 'Engine Cylinders',\n",
    "#                          'highway MPG', 'city mpg',\n",
    "#                          'Popularity', 'Duration Since Production']]\n",
    "\n",
    "# # 使用する特徴量の選択の正常終了を確認する\n",
    "# display(X_choice.head(5))"
   ]
  },
  {
   "cell_type": "code",
   "execution_count": 18,
   "metadata": {},
   "outputs": [
    {
     "name": "stderr",
     "output_type": "stream",
     "text": [
      "/anaconda3/lib/python3.6/site-packages/sklearn/model_selection/_split.py:605: Warning: The least populated class in y has only 1 members, which is too few. The minimum number of members in any class cannot be less than n_splits=3.\n",
      "  % (min_groups, self.n_splits)), Warning)\n"
     ]
    }
   ],
   "source": [
    "import matplotlib.pyplot as plt\n",
    "# from sklearn.svm import SVC\n",
    "# from sklearn.model_selection import StratifiedKFold\n",
    "from sklearn.feature_selection import RFECV\n",
    "from sklearn.ensemble import RandomForestClassifier\n",
    "\n",
    "selector = RFECV(estimator=RandomForestClassifier(random_state=1), step=.05)\n",
    "selector.fit(X_ohe, y)\n",
    "train_cols = X_ohe.columns.values\n",
    "X_choice = X_ohe.loc[:, train_cols[selector.support_]]\n",
    "\n",
    "# # SVMによる分類\n",
    "# estimator = SVC(kernel='linear')\n",
    "\n",
    "# # # 5分割交差検証\n",
    "# # cv = StratifiedKFold(5)\n",
    "\n",
    "# # 特徴量削減\n",
    "# rfecv = RFECV(estimator, scoring='accuracy', step=1)\n",
    "\n",
    "# # 学習\n",
    "# rfecv.fit(X_choice, y)\n",
    "\n",
    "# print('Feature ranking: \\n{}'.format(rfecv.ranking_))"
   ]
  },
  {
   "cell_type": "markdown",
   "metadata": {},
   "source": [
    "## 3. 学習器の作成と評価\n",
    "- ホールドアウトによる学習用データ、検証用データの分割\n",
    "- 線形回帰による予測モデル作成\n",
    "- 作成したモデルによる予測値算出\n",
    "- RMSEによるモデル評価"
   ]
  },
  {
   "cell_type": "markdown",
   "metadata": {},
   "source": [
    "#### ●ホールドアウトによる学習用データ、検証用データの分割"
   ]
  },
  {
   "cell_type": "code",
   "execution_count": 45,
   "metadata": {},
   "outputs": [
    {
     "data": {
      "text/plain": [
       "(8578, 46)"
      ]
     },
     "metadata": {},
     "output_type": "display_data"
    },
    {
     "data": {
      "text/plain": [
       "(954, 46)"
      ]
     },
     "metadata": {},
     "output_type": "display_data"
    },
    {
     "data": {
      "text/plain": [
       "(8578,)"
      ]
     },
     "metadata": {},
     "output_type": "display_data"
    },
    {
     "data": {
      "text/plain": [
       "(954,)"
      ]
     },
     "metadata": {},
     "output_type": "display_data"
    }
   ],
   "source": [
    "X_train, X_test, y_train, y_test = train_test_split(X_choice,\n",
    "                                                    y,\n",
    "                                                    test_size=0.10,\n",
    "                                                    random_state=0)\n",
    "\n",
    "# 学習用データ、検証用データの分割の正常終了を確認する\n",
    "display(X_train.shape, X_test.shape, y_train.shape, y_test.shape)"
   ]
  },
  {
   "cell_type": "code",
   "execution_count": 46,
   "metadata": {},
   "outputs": [
    {
     "data": {
      "text/plain": [
       "8527.856768754858"
      ]
     },
     "metadata": {},
     "output_type": "display_data"
    },
    {
     "data": {
      "text/plain": [
       "8780.36071650199"
      ]
     },
     "metadata": {},
     "output_type": "display_data"
    }
   ],
   "source": [
    "from sklearn.ensemble import RandomForestRegressor\n",
    "# rf = RandomForestRegressor(n_estimators=200, max_features='auto',max_depth = 20)\n",
    "rf = RandomForestRegressor(n_estimators=500, max_features=20,max_depth = 20)\n",
    "rf.fit(X_train, y_train)\n",
    "display(np.sqrt(mean_squared_error(y_train, rf.predict(X_train))))\n",
    "display(np.sqrt(mean_squared_error(y_test, rf.predict(X_test))))"
   ]
  },
  {
   "cell_type": "code",
   "execution_count": 42,
   "metadata": {},
   "outputs": [
    {
     "data": {
      "image/png": "[encoded data removed]",
      "text/plain": [
       "<Figure size 432x288 with 1 Axes>"
      ]
     },
     "metadata": {},
     "output_type": "display_data"
    }
   ],
   "source": [
    "import matplotlib.pyplot as plt\n",
    "import seaborn as sns\n",
    "feature=rf.feature_importances_\n",
    "f = pd.DataFrame({'number': range(len(feature)),'name':X_train.columns.values,\n",
    "             'feature': feature[:]}).sort_values('feature',ascending=False)\n",
    "sns.barplot(x=f['feature'].head(20),y=f['number'].head(20).astype(str)+' '+f['name'].head(20))\n",
    "plt.show()"
   ]
  },
  {
   "cell_type": "code",
   "execution_count": 30,
   "metadata": {},
   "outputs": [],
   "source": [
    "import lightgbm as lgb"
   ]
  },
  {
   "cell_type": "code",
   "execution_count": 47,
   "metadata": {},
   "outputs": [
    {
     "data": {
      "text/plain": [
       "10874.428459337161"
      ]
     },
     "metadata": {},
     "output_type": "display_data"
    },
    {
     "data": {
      "text/plain": [
       "10104.840356872422"
      ]
     },
     "metadata": {},
     "output_type": "display_data"
    },
    {
     "data": {
      "text/plain": [
       "array([ 3.19714419e+04,  2.42971747e+04,  3.65654736e+04,  5.40780937e+03,\n",
       "        1.58393599e+03,  2.71499490e+04,  3.88492654e+04,  2.97801225e+04,\n",
       "        4.39594211e+04,  2.80500791e+04,  5.33885434e+04,  5.50385517e+04,\n",
       "        3.08218655e+04,  6.83563249e+04,  2.23165660e+04,  3.48278874e+04,\n",
       "        2.15977406e+04,  6.27392673e+04,  3.68358399e+04,  8.10179518e+04,\n",
       "        9.04502593e+04,  1.95779210e+03,  5.02580384e+04,  3.86217629e+04,\n",
       "        3.59802505e+04,  2.47031083e+03,  1.52953356e+04,  4.89839321e+04,\n",
       "        2.43134947e+04,  2.32983567e+04,  4.92417644e+04,  3.56259965e+04,\n",
       "        2.23975797e+04,  3.78807951e+04,  4.18014494e+04,  2.41339976e+04,\n",
       "        3.12527236e+04,  7.60952361e+04,  2.37230308e+04,  1.47728118e+04,\n",
       "        1.47685373e+04,  3.50915602e+04,  2.21145182e+05,  2.26370906e+04,\n",
       "        3.96035679e+04,  3.09403619e+04,  3.80425816e+04,  2.73064657e+03,\n",
       "        3.40043267e+04,  4.45523653e+04,  2.24045966e+04,  6.09189222e+04,\n",
       "        2.56285369e+04,  2.64864146e+04,  2.55779343e+04,  3.34315124e+04,\n",
       "        2.44499598e+04,  2.43204610e+04,  2.23474929e+04,  3.05297916e+04,\n",
       "        2.09229363e+03,  2.05225745e+04,  2.94046213e+04,  1.48785225e+04,\n",
       "        2.44898631e+04,  1.85644238e+04,  1.79459946e+04,  1.92692174e+04,\n",
       "        2.43333177e+03,  2.44709944e+04,  2.06585705e+04,  3.05155849e+04,\n",
       "        1.96825646e+04,  2.43331730e+04,  6.69544506e+04,  1.49243104e+05,\n",
       "        1.92396184e+03,  3.32253992e+04,  1.50062993e+03,  1.40096691e+03,\n",
       "        2.59824096e+03,  4.34895294e+04,  4.24771019e+04,  2.71854106e+04,\n",
       "        1.46479181e+04,  2.65715863e+04,  9.37696950e+04,  2.94113932e+04,\n",
       "        7.70670542e+03,  1.52222471e+03,  3.52788969e+04,  5.77334975e+04,\n",
       "        3.37841063e+04,  3.39373422e+04,  2.38335178e+03,  2.32375934e+05,\n",
       "        5.25094918e+04,  1.74537809e+04,  2.96768931e+04,  2.59756582e+04,\n",
       "        2.10319485e+03,  1.96715375e+04,  4.41559189e+04,  1.94338012e+04,\n",
       "        1.66229130e+04,  1.58786515e+03,  2.37665175e+04,  7.83623778e+04,\n",
       "        3.03479811e+03,  2.40740185e+05,  4.27254861e+04,  5.21365220e+04,\n",
       "        2.04803346e+04,  6.89722276e+04,  1.23887746e+05,  3.99628441e+04,\n",
       "        3.35975283e+04,  3.89706280e+04,  6.82180707e+04,  2.06118341e+04,\n",
       "        3.00851106e+04,  1.84026925e+03,  2.71739984e+04,  3.58123968e+04,\n",
       "        3.25353375e+04,  1.79197305e+04,  1.25484446e+05,  2.20837751e+03,\n",
       "        6.57041504e+04,  2.14995660e+04,  3.47760727e+04,  4.67071820e+04,\n",
       "        1.38814141e+04,  3.60810389e+04,  1.72897907e+03,  3.22519988e+04,\n",
       "        3.22435264e+04,  2.28883890e+04,  3.88009104e+04,  2.36455582e+04,\n",
       "        5.77011240e+04,  3.22435264e+04,  7.65658651e+04,  4.37345975e+04,\n",
       "        2.21118475e+04,  2.20741549e+04,  2.50735026e+05,  3.35237018e+04,\n",
       "        2.34429803e+03,  2.59931969e+04,  5.47598596e+04,  2.19162139e+04,\n",
       "        3.01596895e+04,  2.55778831e+04,  5.61554149e+04,  3.85902354e+05,\n",
       "        3.51394811e+03,  3.40982619e+04,  5.40576541e+04,  5.52085991e+04,\n",
       "        4.04284641e+04,  4.25411088e+04,  8.27541963e+04,  2.98564061e+04,\n",
       "        2.75901272e+03,  3.19873219e+04,  1.89787587e+05,  8.11850228e+04,\n",
       "        2.18046009e+04,  2.35523829e+03,  4.34171797e+05,  2.53639692e+04,\n",
       "        2.58266339e+04,  5.43749038e+04,  2.95820593e+03,  2.57616196e+04,\n",
       "        2.36004115e+04,  3.56506775e+04,  1.94209224e+04,  3.20841608e+04,\n",
       "        3.80160172e+04,  2.69231025e+04,  3.00467118e+04,  4.94559792e+04,\n",
       "        2.55116210e+04,  2.99570429e+03,  2.02327782e+04,  1.96684665e+04,\n",
       "        8.10179518e+04,  3.07884685e+04,  1.01750889e+05,  4.55069786e+04,\n",
       "        2.29164289e+04,  2.08343857e+04,  1.85671916e+04,  2.36523363e+04,\n",
       "        5.25956244e+04,  1.16231261e+05,  1.94184618e+04,  2.43592631e+05,\n",
       "        4.50326349e+04,  4.18137153e+03,  5.34123626e+04,  1.64129450e+04,\n",
       "        4.46109310e+04,  2.72550553e+03,  3.08077981e+04,  1.08479503e+05,\n",
       "        4.26795980e+04,  2.50508708e+04,  9.66485387e+03,  7.71503308e+04,\n",
       "        2.40575345e+04, -4.43525842e+03,  2.46168289e+04,  5.13325976e+04,\n",
       "        2.76143181e+04,  3.83416786e+04,  1.46027865e+04,  2.66714041e+04,\n",
       "        2.33801699e+05,  1.92655903e+04,  8.76901756e+04,  3.34560269e+04,\n",
       "        3.47464207e+04,  6.06457885e+04,  4.63212555e+04,  2.37282334e+04,\n",
       "        2.40821335e+03,  3.26313938e+04,  2.28468439e+04,  3.76099551e+04,\n",
       "        4.60902743e+04,  3.79071439e+04,  1.83349566e+03,  1.62141057e+04,\n",
       "        3.40670183e+04,  7.35567179e+04,  2.44068798e+04,  2.15619039e+03,\n",
       "        2.56498802e+04,  3.55365088e+04,  3.25979204e+04,  2.80725934e+04,\n",
       "        4.50398166e+04,  3.52121270e+04,  2.43487368e+04,  2.81423306e+04,\n",
       "        3.79539312e+04,  2.67667142e+04,  1.71503849e+03,  4.97865237e+04,\n",
       "        3.00793168e+04,  2.20887970e+04,  3.86561261e+04,  5.03718855e+04,\n",
       "        4.93357433e+04,  3.98988588e+04,  2.18337526e+04,  4.98974518e+04,\n",
       "        3.35470500e+04,  5.64374696e+03,  2.58266339e+04,  2.88649184e+04,\n",
       "        1.50620478e+03,  3.41794560e+04,  2.33191740e+04,  3.65526137e+04,\n",
       "        1.71053725e+04,  2.84180934e+04,  3.71987344e+04,  5.50515777e+04,\n",
       "        4.78065793e+04,  2.48124162e+04,  2.69792295e+04,  9.73377044e+02,\n",
       "        3.66988281e+04,  3.44500161e+04,  4.51236477e+04,  4.89928567e+04,\n",
       "        3.55323240e+04,  4.76553625e+04,  4.36261703e+05,  2.21997447e+03,\n",
       "        2.00507837e+03,  3.45197740e+03,  2.88250994e+04,  4.23715701e+04,\n",
       "        2.72261491e+04,  1.59916527e+04,  3.69915322e+04,  2.13220850e+04,\n",
       "        5.52141309e+04,  2.87589939e+03,  3.78627489e+04,  3.81272770e+04,\n",
       "        4.72592986e+04,  3.45862856e+04,  2.80404012e+04,  3.13858074e+04,\n",
       "        2.02863023e+04,  2.96120416e+04,  5.62623816e+04,  2.68320923e+04,\n",
       "        1.82755670e+05,  4.30172138e+04,  1.70879430e+04,  3.43025876e+04,\n",
       "        1.97679892e+03,  3.65912180e+04,  3.02730152e+04,  5.87802550e+05,\n",
       "        1.92511312e+05,  3.27283236e+04,  3.17540672e+04,  3.58123968e+04,\n",
       "        2.76399857e+04,  4.52979767e+04,  1.08018635e+05,  3.28175664e+04,\n",
       "       -1.14230940e+03,  2.49602823e+04,  5.41039208e+04,  3.39961225e+04,\n",
       "        2.88345612e+03,  4.08873154e+04,  1.70013450e+03,  9.97593979e+04,\n",
       "        2.33651708e+04,  4.99656844e+04,  8.27482838e+04,  4.09487600e+04,\n",
       "        4.35797345e+03,  2.19662441e+03,  4.07667851e+04,  2.90939846e+04,\n",
       "        3.96035679e+04,  2.09430681e+04,  3.62904990e+04,  2.93449516e+04,\n",
       "        3.45575934e+04,  2.01372022e+04,  2.84188848e+04,  1.92995028e+03,\n",
       "        5.12907108e+04,  2.81633306e+04,  1.62141057e+04,  2.99136368e+04,\n",
       "        7.60186279e+03,  2.57303975e+04,  3.51872337e+03,  3.42101300e+04,\n",
       "        4.56569826e+04,  4.54361141e+04,  2.79180139e+04,  4.05317794e+04,\n",
       "        6.16998553e+04,  2.75350999e+04,  3.72681694e+03,  1.89891743e+04,\n",
       "        2.52742846e+04,  3.67950181e+04,  3.64843922e+04,  7.64679037e+04,\n",
       "        2.93533855e+04,  2.20134499e+03,  6.97013346e+04,  1.98294206e+03,\n",
       "        1.03508736e+05,  3.43696115e+04,  3.78414393e+05,  2.06206869e+04,\n",
       "        7.27402306e+04,  4.18343699e+04,  1.96619208e+04,  2.95309482e+04,\n",
       "        1.46133494e+03,  3.43734192e+04,  2.37485342e+04,  1.49165205e+03,\n",
       "        2.79093518e+04,  3.59598896e+04,  3.47832572e+04,  2.12944794e+03,\n",
       "        2.10208176e+03,  4.71960481e+04,  2.16815872e+04,  3.44566773e+04,\n",
       "        3.64371618e+04,  2.44288741e+05,  4.18806231e+04,  3.47788742e+04,\n",
       "        3.02567226e+04,  3.69670471e+04,  4.04671442e+04,  1.44251806e+05,\n",
       "        2.57172442e+03,  2.48001010e+04,  2.27052207e+03,  4.08184242e+04,\n",
       "        4.37598739e+04,  2.89187160e+04,  3.04321606e+04,  2.73405068e+04,\n",
       "        4.57324567e+04,  2.78569877e+04,  2.14995660e+04,  3.41065775e+04,\n",
       "        1.05460335e+05,  3.73685904e+04,  8.98785774e+02,  2.21193087e+04,\n",
       "        3.65703764e+04,  3.12678020e+04,  2.12766736e+04,  3.71441658e+04,\n",
       "        1.88297636e+04,  2.65715863e+04,  2.67667142e+04,  1.98507125e+04,\n",
       "        4.50537823e+03,  2.86290583e+04,  2.98745601e+05,  7.60219589e+04,\n",
       "        1.44805214e+05,  2.26384860e+03,  3.43025876e+04,  4.24397016e+04,\n",
       "        8.79732859e+04,  2.63161198e+04,  4.09691553e+04,  2.96306744e+04,\n",
       "        1.28744225e+05,  2.59824096e+03,  3.22761908e+04,  2.20803604e+04,\n",
       "        1.89768339e+04,  2.85062126e+04,  2.34177623e+04,  3.25556143e+04,\n",
       "        6.91619739e+04,  3.54404479e+04,  2.67951415e+04,  1.17308942e+05,\n",
       "        2.13918194e+03,  7.37460545e+04,  4.51265578e+04,  7.64679037e+04,\n",
       "        2.09451597e+04,  2.56883216e+04,  1.89925872e+03,  2.35933940e+04,\n",
       "        2.26214066e+04,  1.71659179e+05,  2.49780084e+04,  2.36637997e+04,\n",
       "        2.30673177e+03,  3.21919803e+04,  1.88196351e+04,  2.80946230e+04,\n",
       "        2.16738964e+04,  3.76141082e+04,  1.88380684e+04,  3.22589226e+04,\n",
       "        2.46828533e+04,  2.05470203e+04,  3.45140037e+04,  5.36713745e+04,\n",
       "        1.86490668e+04,  2.98615040e+04,  2.46197951e+04,  2.65715863e+04,\n",
       "        4.88948945e+04,  5.21663565e+04,  2.27571344e+04,  3.52788969e+04,\n",
       "        5.01033772e+04,  3.52788969e+04,  3.35205039e+04,  3.92056688e+04,\n",
       "        3.58107544e+04,  2.17719349e+04,  3.32629201e+04,  2.43703758e+04,\n",
       "        1.54675344e+03,  2.53449235e+04,  2.10576155e+04,  2.06622743e+04,\n",
       "        3.28466656e+04,  2.83038011e+04,  4.00297972e+04,  2.92973977e+04,\n",
       "        1.76606928e+04,  4.60572514e+04,  1.61186957e+04,  2.55778831e+04,\n",
       "        3.59568167e+02,  3.69029284e+03,  4.10788021e+04,  4.63444209e+04,\n",
       "        2.95690327e+04,  2.66189024e+04,  4.94907592e+04,  3.33884737e+03,\n",
       "        2.97375150e+03,  2.25347494e+04,  2.59931969e+04,  2.55223515e+03,\n",
       "        3.80322261e+04,  3.94898427e+04,  4.21556919e+02,  4.73470978e+03,\n",
       "        5.17112337e+04,  4.34139665e+04,  3.25941085e+04,  2.04400115e+04,\n",
       "        1.88601478e+04,  2.67097520e+04,  3.03788126e+04,  1.06772902e+05,\n",
       "        2.28468439e+04,  2.06928427e+04,  7.54885670e+04,  7.43048023e+04,\n",
       "        2.13172841e+03,  3.53689720e+04,  2.53183054e+04,  3.01260606e+04,\n",
       "        1.82797605e+04,  5.53469043e+04,  1.85655580e+04,  4.20609929e+04,\n",
       "        1.57033064e+04,  1.09799611e+05,  2.85447326e+04,  1.78635047e+04,\n",
       "        2.69467391e+04,  3.35375486e+04,  2.83679448e+04,  1.26633723e+03,\n",
       "        5.10624005e+04,  5.57305505e+04,  8.35380070e+04,  4.28842191e+04,\n",
       "        3.62904990e+04,  4.86047554e+04,  4.03731498e+04,  3.26393613e+03,\n",
       "        5.90912408e+04,  6.70120837e+04,  2.00938527e+03,  4.58854473e+04,\n",
       "        2.56198881e+04,  4.71298753e+04,  2.21896022e+04,  4.83252751e+04,\n",
       "        5.35942780e+04,  3.25426095e+04,  2.29351904e+04,  1.84315701e+04,\n",
       "        3.04277226e+04,  3.27612841e+05,  2.38214017e+03,  6.21986944e+04,\n",
       "        1.78244606e+03,  2.97375150e+03,  2.97375150e+03,  2.71669923e+04,\n",
       "        3.68345482e+04,  3.43215737e+04,  2.49783149e+04,  2.67033071e+05,\n",
       "        3.70671505e+04,  2.74718547e+04,  2.85368568e+04,  3.11946225e+05,\n",
       "        3.25915151e+04,  3.14181456e+03,  1.92396184e+03,  2.20809441e+04,\n",
       "        2.46713476e+04,  2.76399857e+04,  5.23320488e+04,  2.12277834e+04,\n",
       "        4.62119471e+04,  3.21755820e+05,  2.71400996e+04,  2.39622752e+04,\n",
       "        3.49150698e+03,  3.51339055e+04,  3.82693520e+03,  3.63391091e+04,\n",
       "        3.59062237e+04,  3.41699522e+04,  1.57022234e+03,  2.17739689e+05,\n",
       "        1.45617107e+03,  1.84797435e+04,  6.48573830e+04,  1.82957791e+04,\n",
       "        3.79922480e+04,  1.86203897e+03,  1.76317664e+04,  2.04265568e+03,\n",
       "        2.73181683e+04,  2.62582482e+04,  4.39708520e+04,  3.62121825e+04,\n",
       "        3.13004170e+03,  2.36523363e+04,  1.54387137e+04,  1.91276603e+03,\n",
       "        1.57522887e+04,  2.69660473e+04,  2.82269760e+04,  2.59931969e+04,\n",
       "        1.68495846e+03,  3.84632724e+04,  1.25484446e+05,  6.60534847e+04,\n",
       "        2.71932658e+04,  5.96955408e+04,  3.80094554e+04,  2.78633499e+04,\n",
       "        3.59504187e+04,  1.89151068e+03,  1.62888041e+04,  4.00042107e+04,\n",
       "        3.70380330e+04,  2.53445195e+04,  4.40268300e+04,  3.35046698e+04,\n",
       "        2.26675750e+04,  2.04887569e+04,  2.97800494e+04,  2.42349951e+03,\n",
       "        3.21910321e+04,  5.33230082e+04,  3.65633128e+04,  1.60915891e+04,\n",
       "        3.34478293e+04,  3.30002263e+04,  4.13924548e+04,  1.60755409e+03,\n",
       "        4.89953537e+03,  2.70311822e+05,  4.85793625e+04,  2.92973977e+04,\n",
       "        2.83679448e+04,  3.29462759e+04,  3.55153890e+04,  8.15044762e+04,\n",
       "        3.04855819e+04,  2.99279205e+04,  2.86186055e+03,  1.38109702e+05,\n",
       "        2.81682784e+04,  2.97801225e+04,  4.21381633e+04,  1.91671697e+03,\n",
       "        3.44227706e+04,  4.83252751e+04,  3.35510845e+04,  6.80372574e+04,\n",
       "        2.13463979e+03,  2.37170829e+04,  1.28920897e+05,  5.08173618e+04,\n",
       "        2.60260425e+04,  8.60667370e+04,  6.27548320e+04,  2.88250994e+04,\n",
       "        2.06991746e+04,  3.94106076e+05,  2.10007884e+04,  3.15988186e+04,\n",
       "        2.59972794e+04,  1.71900846e+03,  7.87879121e+04,  3.91490987e+03,\n",
       "        3.03485666e+04,  6.91561403e+04,  2.64958965e+04,  3.73692450e+04,\n",
       "        4.85793625e+04,  1.97206490e+03,  2.79634480e+04,  2.10546782e+03,\n",
       "        2.84473071e+04,  3.73475484e+04,  2.98527482e+04,  3.44208053e+04,\n",
       "        9.82604073e+04,  1.47728118e+04,  3.36624631e+04,  3.02099696e+04,\n",
       "        1.19816703e+05,  2.48001010e+04,  2.82511605e+04,  3.22519988e+04,\n",
       "        2.10456822e+04,  1.89904369e+03,  3.46429802e+04,  1.80547840e+04,\n",
       "        2.72897399e+04,  3.57970131e+04,  3.55028022e+04,  2.80062555e+04,\n",
       "        3.59415158e+04,  1.95567331e+03,  2.02499191e+04,  6.13392734e+04,\n",
       "        2.88181135e+04,  2.66676705e+04,  4.16243405e+04,  2.88956619e+03,\n",
       "        3.70389929e+04,  3.88283259e+04,  3.70145082e+04,  2.34295155e+04,\n",
       "        3.20113910e+04,  8.92925130e+04,  4.03872107e+04,  1.86321168e+04,\n",
       "        4.04312525e+04,  2.56597898e+03,  5.19662118e+04,  1.59668510e+04,\n",
       "        2.81852941e+04,  2.54425997e+04,  1.89698027e+04,  6.17680170e+04,\n",
       "        2.07732073e+05,  4.92858677e+04,  3.72404705e+04,  1.40096691e+03,\n",
       "        3.28922532e+04,  4.33746735e+04,  2.85368568e+04,  2.78517273e+04,\n",
       "        3.80627008e+04,  1.97702125e+03,  3.79147387e+04,  2.95917920e+04,\n",
       "        2.87943036e+04,  2.57354807e+04,  2.10969631e+03,  2.27596267e+04,\n",
       "        2.50760425e+04,  2.75679831e+04,  5.02243692e+04,  3.86217629e+04,\n",
       "        3.64986528e+04,  2.35300054e+04,  3.34882430e+03,  2.58633383e+03,\n",
       "        2.94399146e+04,  5.60000862e+04,  3.77390019e+04,  3.50954554e+04,\n",
       "        3.96538911e+03,  2.55354151e+04,  2.80883247e+04,  3.83973339e+04,\n",
       "        3.24704785e+04,  2.85161361e+03,  7.96299188e+04,  3.51436223e+04,\n",
       "        5.05020068e+04,  1.16231261e+05,  2.71400996e+04,  3.71638840e+04,\n",
       "        1.87104358e+03,  1.88210571e+04,  3.80173048e+04,  2.99140966e+04,\n",
       "        3.47353017e+03,  5.28495088e+04,  4.67203283e+05,  3.60418956e+04,\n",
       "        8.53743165e+04,  3.02730152e+04,  2.51877730e+04,  3.62904990e+04,\n",
       "        3.19549187e+04,  1.74640134e+03,  3.48034927e+04,  2.03899795e+04,\n",
       "        8.29426910e+02,  4.18188978e+04,  1.95200308e+04,  7.87015728e+04,\n",
       "        4.26795980e+04,  1.90332428e+04,  3.28846780e+04,  5.40196222e+04,\n",
       "        2.44348524e+03,  3.77901988e+04,  1.11264606e+05,  3.78902056e+04,\n",
       "        2.03691785e+04,  2.04098575e+04,  1.55562689e+05,  3.31550849e+04,\n",
       "        2.70839448e+04,  3.66253148e+04,  6.84412844e+04,  4.71746146e+04,\n",
       "        5.80922445e+04,  2.60443524e+04,  2.98445743e+04,  2.81258818e+04,\n",
       "        2.84188848e+04,  5.74424731e+04,  5.62154940e+04,  8.89234290e+04,\n",
       "        3.15174118e+04,  3.73475484e+04,  4.45997242e+04,  2.39622752e+04,\n",
       "        3.70671505e+04,  2.28020461e+03,  3.30709015e+04,  5.19544642e+04,\n",
       "        4.18971913e+04,  3.21490945e+04,  3.68958201e+04,  3.70342681e+04,\n",
       "        2.56972827e+04,  3.62263690e+04,  1.03698383e+05,  3.94898427e+04,\n",
       "        3.48278874e+04,  3.20586476e+04,  4.08492193e+04,  2.85129256e+04,\n",
       "        2.48595332e+04,  3.71638840e+04,  2.61685327e+04,  1.94298887e+03,\n",
       "        5.06660070e+04,  3.52175611e+04,  2.35304681e+04,  1.55238286e+04,\n",
       "        5.17112337e+04,  5.39553870e+04,  1.56941147e+03,  3.07303969e+03,\n",
       "        3.24091824e+04,  1.50062993e+03,  7.31398192e+04,  3.32367547e+04,\n",
       "        1.24299569e+05,  4.73880478e+04,  2.76091257e+03,  3.13355889e+04,\n",
       "        1.53672483e+04,  4.34991433e+04,  2.79684839e+04,  3.28466656e+04,\n",
       "        1.74364748e+03,  3.10108107e+04,  1.44326700e+04,  4.88253686e+04,\n",
       "        3.18093180e+04,  2.53740138e+04,  2.26552202e+04,  2.18366168e+04,\n",
       "        4.83119378e+04,  4.86267098e+04,  2.79180139e+04,  4.10479902e+04,\n",
       "        5.15453795e+04,  2.75675499e+04,  2.41259301e+03,  4.70216339e+04,\n",
       "        4.60572514e+04,  2.59980860e+03,  4.92484828e+04,  3.73670277e+04,\n",
       "        1.95779210e+03,  2.65425857e+04,  2.43672966e+03,  7.40595069e+04,\n",
       "        2.17557234e+05,  3.56857152e+04,  2.99496606e+04,  5.14965661e+04,\n",
       "        2.80883247e+04,  4.63444209e+04,  2.61106035e+04,  3.08594459e+03,\n",
       "        2.70881088e+04,  1.80287248e+04,  4.59789200e+04,  2.45199438e+04,\n",
       "        1.65041765e+04,  3.89097750e+04,  4.36105615e+04,  2.89096890e+04,\n",
       "        4.83252751e+04,  1.05240379e+05,  1.64371282e+05,  2.45940519e+04,\n",
       "        4.47543901e+04,  4.34517439e+04,  2.67052723e+04,  5.34053425e+04,\n",
       "        2.52957908e+04,  5.82243585e+04,  2.69930577e+04,  2.86484919e+04,\n",
       "        3.65681623e+04,  3.36257077e+04,  3.32171774e+04,  1.48676294e+05,\n",
       "        2.21892642e+05,  2.43212607e+04,  2.23264999e+03,  3.48727438e+04,\n",
       "        1.77751139e+04,  4.25630498e+04,  6.25194488e+02,  3.76141082e+04,\n",
       "        2.57341755e+04,  6.11244325e+04,  4.23840281e+04,  2.87626547e+04,\n",
       "        3.10554919e+04,  2.15555480e+04,  3.31550849e+04,  2.69799632e+04,\n",
       "        1.43189126e+03,  4.12701196e+04,  3.51567842e+04,  3.02479295e+04,\n",
       "        2.04969708e+05,  4.68544710e+04,  3.44496804e+04,  2.24471304e+05,\n",
       "        1.88601478e+04,  7.42697071e+03,  1.80304677e+03,  3.27847717e+04,\n",
       "        2.92074651e+04,  1.71281385e+04,  4.73791073e+04,  3.55871789e+04,\n",
       "        5.56112129e+04,  2.71102468e+04,  1.65566542e+05,  2.38716213e+05,\n",
       "        1.95567331e+03,  1.62511443e+04])"
      ]
     },
     "metadata": {},
     "output_type": "display_data"
    }
   ],
   "source": [
    "model = lgb.LGBMRegressor(n_estimators=500,reg_lambda=0.1,randam_state=100)\n",
    "model.fit(X_train, y_train)\n",
    "\n",
    "# 線形回帰モデルの学習を行った学習器に対して学習用データ、検証用データでRMSEを計算する\n",
    "display(np.sqrt(mean_squared_error(y_train, model.predict(X_train))))\n",
    "display(np.sqrt(mean_squared_error(y_test, model.predict(X_test))))\n",
    "\n",
    "# 検証データの予測結果を表示する\n",
    "predict_X_test = model.predict(X_test)\n",
    "display(predict_X_test)"
   ]
  },
  {
   "cell_type": "code",
   "execution_count": 49,
   "metadata": {},
   "outputs": [
    {
     "name": "stderr",
     "output_type": "stream",
     "text": [
      "Using TensorFlow backend.\n"
     ]
    }
   ],
   "source": [
    "# 事前準備\n",
    "from keras.models import Sequential\n",
    "from keras.layers import Dense, Activation\n",
    "\n",
    "# モデルを作るぞ！と宣言\n",
    "model = Sequential()"
   ]
  },
  {
   "cell_type": "code",
   "execution_count": 51,
   "metadata": {},
   "outputs": [
    {
     "data": {
      "text/plain": [
       "46"
      ]
     },
     "execution_count": 51,
     "metadata": {},
     "output_type": "execute_result"
    }
   ],
   "source": [
    "len(X_train.columns)"
   ]
  },
  {
   "cell_type": "code",
   "execution_count": 50,
   "metadata": {},
   "outputs": [
    {
     "name": "stdout",
     "output_type": "stream",
     "text": [
      "WARNING:tensorflow:From /anaconda3/lib/python3.6/site-packages/tensorflow/python/framework/op_def_library.py:263: colocate_with (from tensorflow.python.framework.ops) is deprecated and will be removed in a future version.\n",
      "Instructions for updating:\n",
      "Colocations handled automatically by placer.\n"
     ]
    }
   ],
   "source": [
    "model.add(Dense(3, input_dim = len(X_train.columns), activation='sigmoid'))\n",
    "model.add(Dense(2, activation='sigmoid'))\n",
    "model.add(Dense(2, activation='sigmoid'))"
   ]
  },
  {
   "cell_type": "markdown",
   "metadata": {},
   "source": [
    "#### ●線形回帰による予測モデル作成"
   ]
  },
  {
   "cell_type": "code",
   "execution_count": null,
   "metadata": {},
   "outputs": [],
   "source": [
    "# 線形回帰モデルの学習を行う\n",
    "linear_regression = linear_model.LinearRegression()\n",
    "linear_regression.fit(X_train, y_train)\n",
    "\n",
    "# 線形回帰モデルの学習を行った学習器に対して学習用データ、検証用データでRMSEを計算する\n",
    "display(np.sqrt(mean_squared_error(y_train, linear_regression.predict(X_train))))\n",
    "display(np.sqrt(mean_squared_error(y_test, linear_regression.predict(X_test))))\n",
    "\n",
    "# 検証データの予測結果を表示する\n",
    "predict_X_test = linear_regression.predict(X_test)\n",
    "display(predict_X_test)"
   ]
  },
  {
   "cell_type": "markdown",
   "metadata": {},
   "source": [
    "## 4. scoreデータの予測値をcsv出力\n",
    "- scoreデータの読み込み\n",
    "- 特徴量Xの設定\n",
    "- データの加工\n",
    "- 3.で作成した学習器に対してtestデータの特徴量から予測値算出\n",
    "- 予測値のcsv出力"
   ]
  },
  {
   "cell_type": "markdown",
   "metadata": {},
   "source": [
    "#### ●scoreデータの読み込み"
   ]
  },
  {
   "cell_type": "code",
   "execution_count": null,
   "metadata": {},
   "outputs": [],
   "source": [
    "# csvファイルを読み込む\n",
    "df_score = pd.read_csv('score.csv', header=0, quotechar='\"', encoding='cp932')"
   ]
  },
  {
   "cell_type": "markdown",
   "metadata": {},
   "source": [
    "#### ●特徴量Xの設定"
   ]
  },
  {
   "cell_type": "code",
   "execution_count": null,
   "metadata": {},
   "outputs": [],
   "source": [
    "# 特徴量Xの設定\n",
    "X_score = df_score.iloc[:, :]\n",
    "\n",
    "# 特徴量Xの設定正常終了を確認する\n",
    "display(X_score.head(5), X_score.shape)"
   ]
  },
  {
   "cell_type": "markdown",
   "metadata": {},
   "source": [
    "#### ●データの加工"
   ]
  },
  {
   "cell_type": "code",
   "execution_count": null,
   "metadata": {},
   "outputs": [],
   "source": [
    "# yearに関する新しい特徴量の作成\n",
    "X_score['Duration Since Production'] = 2017 - X_score['Year']\n",
    "\n",
    "# Engine HP, Engine Cylinders, Number of Doorsの欠損値を中央値で補完する\n",
    "X_score_complement = X_score.fillna(X_score.median())\n",
    "\n",
    "# 使用する特徴量の選択\n",
    "X_score_choice = X_score_complement[['Engine HP', 'Engine Cylinders',\n",
    "                                     'highway MPG', 'city mpg',\n",
    "                                     'Popularity', 'Duration Since Production']]\n",
    "\n",
    "# データの加工の正常終了を確認する\n",
    "display(X_score_choice.head(5))"
   ]
  },
  {
   "cell_type": "markdown",
   "metadata": {},
   "source": [
    "#### ●scoreデータの特徴量からラベルの予測値算出"
   ]
  },
  {
   "cell_type": "code",
   "execution_count": null,
   "metadata": {},
   "outputs": [],
   "source": [
    "# 線形回帰モデルの学習を行った学習器に対して、score用データを用いてラベルの予測値を算出する\n",
    "predict_X_score = linear_regression.predict(X_score_choice)\n",
    "\n",
    "# score用データのラベルの予測値を表示する\n",
    "display(predict_X_score, predict_X_score.shape)"
   ]
  },
  {
   "cell_type": "markdown",
   "metadata": {},
   "source": [
    "#### ●予測値のcsv出力"
   ]
  },
  {
   "cell_type": "code",
   "execution_count": null,
   "metadata": {},
   "outputs": [],
   "source": [
    "np.savetxt(\"predict_X_score.csv\", predict_X_score, delimiter=\",\", fmt='%.5f')"
   ]
  }
 ],
 "metadata": {
  "kernelspec": {
   "display_name": "Python 3",
   "language": "python",
   "name": "python3"
  },
  "language_info": {
   "codemirror_mode": {
    "name": "ipython",
    "version": 3
   },
   "file_extension": ".py",
   "mimetype": "text/x-python",
   "name": "python",
   "nbconvert_exporter": "python",
   "pygments_lexer": "ipython3",
   "version": "3.6.5"
  }
 },
 "nbformat": 4,
 "nbformat_minor": 2
}
