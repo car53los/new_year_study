{
 "cells": [
  {
   "cell_type": "markdown",
   "metadata": {},
   "source": [
    "## 1. データの準備\n",
    "- データの読み込み\n",
    "- 特徴量Xと正解ラベルyの設定"
   ]
  },
  {
   "cell_type": "markdown",
   "metadata": {},
   "source": [
    "#### ●データの読み込み"
   ]
  },
  {
   "cell_type": "code",
   "execution_count": 48,
   "metadata": {},
   "outputs": [
    {
     "data": {
      "text/html": [
       "<div>\n",
       "<style scoped>\n",
       "    .dataframe tbody tr th:only-of-type {\n",
       "        vertical-align: middle;\n",
       "    }\n",
       "\n",
       "    .dataframe tbody tr th {\n",
       "        vertical-align: top;\n",
       "    }\n",
       "\n",
       "    .dataframe thead th {\n",
       "        text-align: right;\n",
       "    }\n",
       "</style>\n",
       "<table border=\"1\" class=\"dataframe\">\n",
       "  <thead>\n",
       "    <tr style=\"text-align: right;\">\n",
       "      <th></th>\n",
       "      <th>Make</th>\n",
       "      <th>Model</th>\n",
       "      <th>Year</th>\n",
       "      <th>Engine Fuel Type</th>\n",
       "      <th>Engine HP</th>\n",
       "      <th>Engine Cylinders</th>\n",
       "      <th>Transmission Type</th>\n",
       "      <th>Driven_Wheels</th>\n",
       "      <th>Number of Doors</th>\n",
       "      <th>Market Category</th>\n",
       "      <th>Vehicle Size</th>\n",
       "      <th>Vehicle Style</th>\n",
       "      <th>highway MPG</th>\n",
       "      <th>city mpg</th>\n",
       "      <th>Popularity</th>\n",
       "      <th>MSRP</th>\n",
       "    </tr>\n",
       "  </thead>\n",
       "  <tbody>\n",
       "    <tr>\n",
       "      <th>0</th>\n",
       "      <td>BMW</td>\n",
       "      <td>1 Series M</td>\n",
       "      <td>2011</td>\n",
       "      <td>premium unleaded (required)</td>\n",
       "      <td>335.0</td>\n",
       "      <td>6.0</td>\n",
       "      <td>MANUAL</td>\n",
       "      <td>rear wheel drive</td>\n",
       "      <td>2.0</td>\n",
       "      <td>Factory Tuner,Luxury,High-Performance</td>\n",
       "      <td>Compact</td>\n",
       "      <td>Coupe</td>\n",
       "      <td>26</td>\n",
       "      <td>19</td>\n",
       "      <td>3916</td>\n",
       "      <td>46135</td>\n",
       "    </tr>\n",
       "    <tr>\n",
       "      <th>1</th>\n",
       "      <td>BMW</td>\n",
       "      <td>1 Series</td>\n",
       "      <td>2011</td>\n",
       "      <td>premium unleaded (required)</td>\n",
       "      <td>300.0</td>\n",
       "      <td>6.0</td>\n",
       "      <td>MANUAL</td>\n",
       "      <td>rear wheel drive</td>\n",
       "      <td>2.0</td>\n",
       "      <td>Luxury,Performance</td>\n",
       "      <td>Compact</td>\n",
       "      <td>Convertible</td>\n",
       "      <td>28</td>\n",
       "      <td>19</td>\n",
       "      <td>3916</td>\n",
       "      <td>40650</td>\n",
       "    </tr>\n",
       "    <tr>\n",
       "      <th>2</th>\n",
       "      <td>BMW</td>\n",
       "      <td>1 Series</td>\n",
       "      <td>2011</td>\n",
       "      <td>premium unleaded (required)</td>\n",
       "      <td>300.0</td>\n",
       "      <td>6.0</td>\n",
       "      <td>MANUAL</td>\n",
       "      <td>rear wheel drive</td>\n",
       "      <td>2.0</td>\n",
       "      <td>Luxury,High-Performance</td>\n",
       "      <td>Compact</td>\n",
       "      <td>Coupe</td>\n",
       "      <td>28</td>\n",
       "      <td>20</td>\n",
       "      <td>3916</td>\n",
       "      <td>36350</td>\n",
       "    </tr>\n",
       "    <tr>\n",
       "      <th>3</th>\n",
       "      <td>BMW</td>\n",
       "      <td>1 Series</td>\n",
       "      <td>2011</td>\n",
       "      <td>premium unleaded (required)</td>\n",
       "      <td>230.0</td>\n",
       "      <td>6.0</td>\n",
       "      <td>MANUAL</td>\n",
       "      <td>rear wheel drive</td>\n",
       "      <td>2.0</td>\n",
       "      <td>Luxury,Performance</td>\n",
       "      <td>Compact</td>\n",
       "      <td>Coupe</td>\n",
       "      <td>28</td>\n",
       "      <td>18</td>\n",
       "      <td>3916</td>\n",
       "      <td>29450</td>\n",
       "    </tr>\n",
       "    <tr>\n",
       "      <th>4</th>\n",
       "      <td>BMW</td>\n",
       "      <td>1 Series</td>\n",
       "      <td>2011</td>\n",
       "      <td>premium unleaded (required)</td>\n",
       "      <td>230.0</td>\n",
       "      <td>6.0</td>\n",
       "      <td>MANUAL</td>\n",
       "      <td>rear wheel drive</td>\n",
       "      <td>2.0</td>\n",
       "      <td>Luxury</td>\n",
       "      <td>Compact</td>\n",
       "      <td>Convertible</td>\n",
       "      <td>28</td>\n",
       "      <td>18</td>\n",
       "      <td>3916</td>\n",
       "      <td>34500</td>\n",
       "    </tr>\n",
       "  </tbody>\n",
       "</table>\n",
       "</div>"
      ],
      "text/plain": [
       "  Make       Model  Year             Engine Fuel Type  Engine HP  \\\n",
       "0  BMW  1 Series M  2011  premium unleaded (required)      335.0   \n",
       "1  BMW    1 Series  2011  premium unleaded (required)      300.0   \n",
       "2  BMW    1 Series  2011  premium unleaded (required)      300.0   \n",
       "3  BMW    1 Series  2011  premium unleaded (required)      230.0   \n",
       "4  BMW    1 Series  2011  premium unleaded (required)      230.0   \n",
       "\n",
       "   Engine Cylinders Transmission Type     Driven_Wheels  Number of Doors  \\\n",
       "0               6.0            MANUAL  rear wheel drive              2.0   \n",
       "1               6.0            MANUAL  rear wheel drive              2.0   \n",
       "2               6.0            MANUAL  rear wheel drive              2.0   \n",
       "3               6.0            MANUAL  rear wheel drive              2.0   \n",
       "4               6.0            MANUAL  rear wheel drive              2.0   \n",
       "\n",
       "                         Market Category Vehicle Size Vehicle Style  \\\n",
       "0  Factory Tuner,Luxury,High-Performance      Compact         Coupe   \n",
       "1                     Luxury,Performance      Compact   Convertible   \n",
       "2                Luxury,High-Performance      Compact         Coupe   \n",
       "3                     Luxury,Performance      Compact         Coupe   \n",
       "4                                 Luxury      Compact   Convertible   \n",
       "\n",
       "   highway MPG  city mpg  Popularity   MSRP  \n",
       "0           26        19        3916  46135  \n",
       "1           28        19        3916  40650  \n",
       "2           28        20        3916  36350  \n",
       "3           28        18        3916  29450  \n",
       "4           28        18        3916  34500  "
      ]
     },
     "metadata": {},
     "output_type": "display_data"
    },
    {
     "data": {
      "text/plain": [
       "(9532, 16)"
      ]
     },
     "metadata": {},
     "output_type": "display_data"
    }
   ],
   "source": [
    "# 必要なライブラリを読み込む\n",
    "from sklearn import linear_model\n",
    "from sklearn.metrics import mean_squared_error\n",
    "import numpy as np\n",
    "from sklearn.model_selection import train_test_split\n",
    "import pandas as pd\n",
    "from IPython.core.display import display\n",
    "\n",
    "# csvファイルを読み込む\n",
    "df_data = pd.read_csv('data.csv', header=0, quotechar='\"', encoding='cp932')\n",
    "\n",
    "# csvファイルの読み込みの正常終了を確認する\n",
    "display(df_data.head(5), df_data.shape)"
   ]
  },
  {
   "cell_type": "markdown",
   "metadata": {},
   "source": [
    "#### ●特徴量Xと正解ラベルyの設定"
   ]
  },
  {
   "cell_type": "code",
   "execution_count": 49,
   "metadata": {
    "scrolled": false
   },
   "outputs": [
    {
     "data": {
      "text/html": [
       "<div>\n",
       "<style scoped>\n",
       "    .dataframe tbody tr th:only-of-type {\n",
       "        vertical-align: middle;\n",
       "    }\n",
       "\n",
       "    .dataframe tbody tr th {\n",
       "        vertical-align: top;\n",
       "    }\n",
       "\n",
       "    .dataframe thead th {\n",
       "        text-align: right;\n",
       "    }\n",
       "</style>\n",
       "<table border=\"1\" class=\"dataframe\">\n",
       "  <thead>\n",
       "    <tr style=\"text-align: right;\">\n",
       "      <th></th>\n",
       "      <th>Make</th>\n",
       "      <th>Model</th>\n",
       "      <th>Year</th>\n",
       "      <th>Engine Fuel Type</th>\n",
       "      <th>Engine HP</th>\n",
       "      <th>Engine Cylinders</th>\n",
       "      <th>Transmission Type</th>\n",
       "      <th>Driven_Wheels</th>\n",
       "      <th>Number of Doors</th>\n",
       "      <th>Market Category</th>\n",
       "      <th>Vehicle Size</th>\n",
       "      <th>Vehicle Style</th>\n",
       "      <th>highway MPG</th>\n",
       "      <th>city mpg</th>\n",
       "      <th>Popularity</th>\n",
       "    </tr>\n",
       "  </thead>\n",
       "  <tbody>\n",
       "    <tr>\n",
       "      <th>0</th>\n",
       "      <td>BMW</td>\n",
       "      <td>1 Series M</td>\n",
       "      <td>2011</td>\n",
       "      <td>premium unleaded (required)</td>\n",
       "      <td>335.0</td>\n",
       "      <td>6.0</td>\n",
       "      <td>MANUAL</td>\n",
       "      <td>rear wheel drive</td>\n",
       "      <td>2.0</td>\n",
       "      <td>Factory Tuner,Luxury,High-Performance</td>\n",
       "      <td>Compact</td>\n",
       "      <td>Coupe</td>\n",
       "      <td>26</td>\n",
       "      <td>19</td>\n",
       "      <td>3916</td>\n",
       "    </tr>\n",
       "    <tr>\n",
       "      <th>1</th>\n",
       "      <td>BMW</td>\n",
       "      <td>1 Series</td>\n",
       "      <td>2011</td>\n",
       "      <td>premium unleaded (required)</td>\n",
       "      <td>300.0</td>\n",
       "      <td>6.0</td>\n",
       "      <td>MANUAL</td>\n",
       "      <td>rear wheel drive</td>\n",
       "      <td>2.0</td>\n",
       "      <td>Luxury,Performance</td>\n",
       "      <td>Compact</td>\n",
       "      <td>Convertible</td>\n",
       "      <td>28</td>\n",
       "      <td>19</td>\n",
       "      <td>3916</td>\n",
       "    </tr>\n",
       "    <tr>\n",
       "      <th>2</th>\n",
       "      <td>BMW</td>\n",
       "      <td>1 Series</td>\n",
       "      <td>2011</td>\n",
       "      <td>premium unleaded (required)</td>\n",
       "      <td>300.0</td>\n",
       "      <td>6.0</td>\n",
       "      <td>MANUAL</td>\n",
       "      <td>rear wheel drive</td>\n",
       "      <td>2.0</td>\n",
       "      <td>Luxury,High-Performance</td>\n",
       "      <td>Compact</td>\n",
       "      <td>Coupe</td>\n",
       "      <td>28</td>\n",
       "      <td>20</td>\n",
       "      <td>3916</td>\n",
       "    </tr>\n",
       "    <tr>\n",
       "      <th>3</th>\n",
       "      <td>BMW</td>\n",
       "      <td>1 Series</td>\n",
       "      <td>2011</td>\n",
       "      <td>premium unleaded (required)</td>\n",
       "      <td>230.0</td>\n",
       "      <td>6.0</td>\n",
       "      <td>MANUAL</td>\n",
       "      <td>rear wheel drive</td>\n",
       "      <td>2.0</td>\n",
       "      <td>Luxury,Performance</td>\n",
       "      <td>Compact</td>\n",
       "      <td>Coupe</td>\n",
       "      <td>28</td>\n",
       "      <td>18</td>\n",
       "      <td>3916</td>\n",
       "    </tr>\n",
       "    <tr>\n",
       "      <th>4</th>\n",
       "      <td>BMW</td>\n",
       "      <td>1 Series</td>\n",
       "      <td>2011</td>\n",
       "      <td>premium unleaded (required)</td>\n",
       "      <td>230.0</td>\n",
       "      <td>6.0</td>\n",
       "      <td>MANUAL</td>\n",
       "      <td>rear wheel drive</td>\n",
       "      <td>2.0</td>\n",
       "      <td>Luxury</td>\n",
       "      <td>Compact</td>\n",
       "      <td>Convertible</td>\n",
       "      <td>28</td>\n",
       "      <td>18</td>\n",
       "      <td>3916</td>\n",
       "    </tr>\n",
       "  </tbody>\n",
       "</table>\n",
       "</div>"
      ],
      "text/plain": [
       "  Make       Model  Year             Engine Fuel Type  Engine HP  \\\n",
       "0  BMW  1 Series M  2011  premium unleaded (required)      335.0   \n",
       "1  BMW    1 Series  2011  premium unleaded (required)      300.0   \n",
       "2  BMW    1 Series  2011  premium unleaded (required)      300.0   \n",
       "3  BMW    1 Series  2011  premium unleaded (required)      230.0   \n",
       "4  BMW    1 Series  2011  premium unleaded (required)      230.0   \n",
       "\n",
       "   Engine Cylinders Transmission Type     Driven_Wheels  Number of Doors  \\\n",
       "0               6.0            MANUAL  rear wheel drive              2.0   \n",
       "1               6.0            MANUAL  rear wheel drive              2.0   \n",
       "2               6.0            MANUAL  rear wheel drive              2.0   \n",
       "3               6.0            MANUAL  rear wheel drive              2.0   \n",
       "4               6.0            MANUAL  rear wheel drive              2.0   \n",
       "\n",
       "                         Market Category Vehicle Size Vehicle Style  \\\n",
       "0  Factory Tuner,Luxury,High-Performance      Compact         Coupe   \n",
       "1                     Luxury,Performance      Compact   Convertible   \n",
       "2                Luxury,High-Performance      Compact         Coupe   \n",
       "3                     Luxury,Performance      Compact         Coupe   \n",
       "4                                 Luxury      Compact   Convertible   \n",
       "\n",
       "   highway MPG  city mpg  Popularity  \n",
       "0           26        19        3916  \n",
       "1           28        19        3916  \n",
       "2           28        20        3916  \n",
       "3           28        18        3916  \n",
       "4           28        18        3916  "
      ]
     },
     "metadata": {},
     "output_type": "display_data"
    },
    {
     "data": {
      "text/plain": [
       "(9532, 15)"
      ]
     },
     "metadata": {},
     "output_type": "display_data"
    },
    {
     "data": {
      "text/plain": [
       "0    46135\n",
       "1    40650\n",
       "2    36350\n",
       "3    29450\n",
       "4    34500\n",
       "Name: MSRP, dtype: int64"
      ]
     },
     "metadata": {},
     "output_type": "display_data"
    },
    {
     "data": {
      "text/plain": [
       "(9532,)"
      ]
     },
     "metadata": {},
     "output_type": "display_data"
    }
   ],
   "source": [
    "# 特徴量Xと正解ラベルyの設定\n",
    "X = df_data.iloc[:, 0:-1]\n",
    "y = df_data.iloc[:, -1]\n",
    "\n",
    "# 特徴量Xと正解ラベルyの設定の正常終了を確認する\n",
    "display(X.head(5), X.shape)\n",
    "display(y.head(5), y.shape)"
   ]
  },
  {
   "cell_type": "code",
   "execution_count": 50,
   "metadata": {},
   "outputs": [
    {
     "data": {
      "text/plain": [
       "0    regular unleaded\n",
       "dtype: object"
      ]
     },
     "execution_count": 50,
     "metadata": {},
     "output_type": "execute_result"
    }
   ],
   "source": [
    "X['Engine Fuel Type'].mode()"
   ]
  },
  {
   "cell_type": "code",
   "execution_count": 51,
   "metadata": {},
   "outputs": [
    {
     "name": "stdout",
     "output_type": "stream",
     "text": [
      "0 : Make : object\n",
      "['BMW', 'Audi', 'FIAT', 'Mercedes-Benz', 'Chrysler', 'Nissan', 'Volvo', 'Mazda', 'Mitsubishi', 'Ferrari', 'Alfa Romeo', 'Toyota', 'McLaren', 'Maybach', 'Pontiac', 'Porsche', 'Saab', 'GMC', 'Hyundai', 'Plymouth', 'Honda', 'Oldsmobile', 'Suzuki', 'Ford', 'Cadillac', 'Kia', 'Bentley', 'Chevrolet', 'Dodge', 'Lamborghini', 'Lincoln', 'Subaru', 'Volkswagen', 'Spyker', 'Buick', 'Acura', 'Rolls-Royce', 'Maserati', 'Lexus', 'Aston Martin', 'Land Rover', 'Lotus', 'Infiniti', 'Scion', 'Genesis', 'HUMMER', 'Tesla', 'Bugatti']\n",
      "1 : Model : object\n",
      "['1 Series M', '1 Series', '100', '124 Spider', '190-Class', '2 Series', '200', '200SX', '240SX', '240', '2', '3 Series Gran Turismo', '3 Series', '300-Class', '3000GT', '300', '300M', '300ZX', '323', '350-Class', '350Z', '360', '370Z', '3', '4 Series Gran Coupe', '4 Series', '400-Class', '456M', '458 Italia', '4C', '4Runner', '5 Series Gran Turismo', '5 Series', '500-Class', '500e', '500', '500L', '500X', '560-Class', '570S', '575M', '57', '599', '5', '6 Series Gran Coupe', '6 Series', '600-Class', '6000', '612 Scaglietti', '626', '62', '650S Coupe', '650S Spider', '6', '7 Series', '718 Cayman', '740', '760', '780', '8 Series', '80', '850', '9-2X', '9-3 Griffin', '9月3日', '9-4X', '9月5日', '9-7X', '9000', '900', '90', '911', '928', '929', '940', '944', '960', '968', 'A3', 'A4 allroad', 'A4', 'A5', 'A6', 'A7', 'A8', 'Acadia Limited', 'Acadia', 'Accent', 'Acclaim', 'Accord Crosstour', 'Accord Hybrid', 'Accord Plug-In Hybrid', 'Accord', 'Achieva', 'ActiveHybrid 5', 'ActiveHybrid 7', 'Aerio', 'Aerostar', 'Alero', 'Allante', 'allroad quattro', 'allroad', 'ALPINA B6 Gran Coupe', 'ALPINA B7', 'Altima Hybrid', 'Altima', 'Amanti', 'AMG GT', 'Armada', 'Arnage', 'Aspen', 'Aspire', 'Astro Cargo', 'Astro', 'ATS Coupe', 'ATS-V', 'ATS', 'Aurora', 'Avalanche', 'Avalon Hybrid', 'Avalon', 'Avenger', 'Aventador', 'Aveo', 'Aviator', 'Axxess', 'Azera', 'Aztek', 'Azure T', 'Azure', 'B-Class Electric Drive', 'B-Series Pickup', 'B-Series Truck', 'B-Series', 'B9 Tribeca', 'Baja', 'Beetle Convertible', 'Beetle', 'Beretta', 'Black Diamond Avalanche', 'Blazer', 'Bolt EV', 'Bonneville', 'Borrego', 'Boxster', 'Bravada', 'Breeze', 'Bronco II', 'Bronco', 'Brooklands', 'Brougham', 'BRZ', 'C-Class', 'C-Max Hybrid', 'C30', 'C36 AMG', 'C43 AMG', 'C70', 'C8', 'Cabriolet', 'Cabrio', 'Cadenza', 'Caliber', 'California T', 'California', 'Camaro', 'Camry Hybrid', 'Camry Solara', 'Camry', 'Canyon', 'Caprice', 'Captiva Sport', 'Caravan', 'Carrera GT', 'Cascada', 'Catera', 'Cavalier', 'Cayenne', 'Cayman S', 'Cayman', 'CC', 'Celebrity', 'Celica', 'Century', 'Challenger', 'Charger', 'Chevy Van', 'Ciera', 'Cirrus', 'City Express', 'Civic CRX', 'Civic del Sol', 'Civic', 'C/K 1500 Series', 'C/K 2500 Series', 'CL-Class', 'CLA-Class', 'CL', 'Classic', 'CLK-Class', 'CLS-Class', 'Cobalt', 'Colorado', 'Colt', 'Concorde', 'Continental Flying Spur Speed', 'Continental Flying Spur', 'Continental GT Speed Convertible', 'Continental GT Speed', 'Continental GT', 'Continental GTC', 'Continental Supersports Convertible', 'Continental Supersports', 'Continental', 'Contour SVT', 'Contour', 'Corniche', 'Corolla iM', 'Corolla', 'Corrado', 'Corsica', 'Corvette Stingray', 'Corvette', 'Coupe', 'CR-V', 'CR-Z', 'Cressida', 'Crossfire', 'Crosstour', 'Crosstrek', 'Crown Victoria', 'Cruze Limited', 'Cruze', 'CT 200h', 'CT6', 'CTS Coupe', 'CTS-V Coupe', 'CTS-V Wagon', 'CTS-V', 'CTS Wagon', 'CTS', 'Cube', 'Custom Cruiser', 'Cutlass Calais', 'Cutlass Ciera', 'Cutlass Supreme', 'Cutlass', 'CX-3', 'CX-5', 'CX-7', 'CX-9', 'Dakota', 'Dart', 'Dawn', 'Daytona', 'DB7', 'DB9 GT', 'DB9', 'DBS', 'Defender', 'DeVille', 'Diablo', 'Diamante', 'Discovery Series II', 'Discovery Sport', 'Discovery', 'DTS', 'Durango', 'Dynasty', 'E-150', 'E-250', 'E-Class', 'e-Golf', 'E-Series Van', 'E-Series Wagon', 'E55 AMG', 'ECHO', 'Eclipse Spyder', 'Eclipse', 'Edge', 'Eighty-Eight Royale', 'Eighty-Eight', 'Elantra Coupe', 'Elantra GT', 'Elantra Touring', 'Elantra', 'Eldorado', 'Electra', 'Element', 'Elise', 'Enclave', 'Encore', 'Endeavor', 'Entourage', 'Envision', 'Envoy XL', 'Envoy XUV', 'Envoy', 'Enzo', 'Eos', 'Equator', 'Equinox', 'Equus', 'ES 250', 'ES 300h', 'ES 300', 'ES 330', 'ES 350', 'Escalade ESV', 'Escalade EXT', 'Escalade Hybrid', 'Escalade', 'Escape Hybrid', 'Escape', 'Escort', 'Esprit', 'Esteem', 'EuroVan', 'Evora 400', 'Evora', 'EX35', 'Excel', 'Exige', 'EX', 'Expedition', 'Explorer Sport Trac', 'Explorer Sport', 'Explorer', 'Expo', 'Express', 'F-150 Heritage', 'F-150 SVT Lightning', 'F-150', 'F-250', 'F12 Berlinetta', 'F430', 'Festiva', 'FF', 'Fiesta', 'Firebird', 'Fit EV', 'Fit', 'Five Hundred', 'FJ Cruiser', 'Fleetwood', 'Flex', 'Flying Spur', 'Focus RS', 'Focus ST', 'Focus', 'Forenza', 'Forester', 'Forte', 'Fox', 'FR-S', 'Freelander', 'Freestar', 'Freestyle', 'Frontier', 'Fusion Hybrid', 'Fusion', 'FX35', 'FX45', 'FX50', 'FX', 'G-Class', 'G Convertible', 'G Coupe', 'G Sedan', 'G20', 'G35', 'G37 Convertible', 'G37 Coupe', 'G37 Sedan', 'G37', 'G3', 'G5', 'G6', 'G80', 'G8', 'Galant', 'Gallardo', 'Genesis Coupe', 'Genesis', 'Ghibli', 'Ghost Series II', 'Ghost', 'GL-Class', 'GLA-Class', 'GLC-Class', 'GLE-Class Coupe', 'GLE-Class', 'GLI', 'GLK-Class', 'GLS-Class', 'Golf Alltrack', 'Golf GTI', 'Golf R', 'Golf SportWagen', 'Golf', 'Grand Am', 'Grand Caravan', 'Grand Prix', 'Grand Vitara', 'Grand Voyager', 'GranSport', 'GranTurismo Convertible', 'GranTurismo', 'GS 200t', 'GS 300', 'GS 350', 'GS 400', 'GS 430', 'GS 450h', 'GS 460', 'GS F', 'GT-R', 'GT', 'GTI', 'GTO', 'GX 460', 'GX 470', 'H3', 'H3T', 'HHR', 'Highlander Hybrid', 'Highlander', 'Horizon', 'HR-V', 'HS 250h', 'Huracan', 'i-MiEV', 'I30', 'I35', 'i3', 'iA', 'ILX Hybrid', 'ILX', 'Impala Limited', 'Impala', 'Imperial', 'Impreza WRX', 'Impreza', 'iM', 'Insight', 'Integra', 'Intrepid', 'Intrigue', 'iQ', 'IS 200t', 'IS 250 C', 'IS 250', 'IS 300', 'IS 350 C', 'IS 350', 'IS F', 'J30', 'Jetta GLI', 'Jetta Hybrid', 'Jetta SportWagen', 'Jetta', 'Jimmy', 'Journey', 'Juke', 'Justy', 'JX', 'K900', 'Kizashi', 'LaCrosse', 'Lancer Evolution', 'Lancer Sportback', 'Lancer', 'Land Cruiser', 'Landaulet', 'Laser', 'Le Baron', 'Le Mans', 'Leaf', 'Legacy', 'Legend', 'LeSabre', 'Levante', 'LHS', 'Loyale', 'LR2', 'LR3', 'LR4', 'LS 400', 'LS 430', 'LS 460', 'LS 600h L', 'LS', 'LSS', 'LTD Crown Victoria', 'Lucerne', 'Lumina Minivan', 'Lumina', 'LX 470', 'LX 570', 'M-Class', 'M2', 'M30', 'M35', 'M37', 'M3', 'M45', 'M4', 'M56', 'M5', 'M6 Gran Coupe', 'M6', 'Macan', 'Magnum', 'Malibu Classic', 'Malibu Hybrid', 'Malibu Limited', 'Malibu Maxx', 'Malibu', 'Mark LT', 'Mark VIII', 'Mark VII', 'Matrix', 'Maxima', 'Maybach', 'Mazdaspeed 3', 'Mazdaspeed 6', 'Mazdaspeed MX-5 Miata', 'Mazdaspeed Protege', 'M', 'MDX', 'Metris', 'Metro', 'Mighty Max Pickup', 'Millenia', 'Mirage G4', 'Mirage', 'MKC', 'MKS', 'MKT', 'MKX', 'MKZ Hybrid', 'MKZ', 'ML55 AMG', 'Model S', 'Monaco', 'Montana SV6', 'Montana', 'Monte Carlo', 'Montero Sport', 'Montero', 'MPV', 'MR2 Spyder', 'MR2', 'Mulsanne', 'Murano CrossCabriolet', 'Murano', 'Murcielago', 'Mustang SVT Cobra', 'Mustang', 'MX-3', 'MX-5 Miata', 'MX-6', 'Navajo', 'Navigator', 'Neon', 'New Beetle', 'New Yorker', 'Ninety-Eight', 'Nitro', 'NSX', 'NV200', 'NX 200t', 'NX 300h', 'NX', 'Odyssey', 'Optima Hybrid', 'Optima', 'Outback', 'Outlander Sport', 'Outlander', 'Pacifica', 'Panamera', 'Park Avenue', 'Park Ward', 'Paseo', 'Passat', 'Passport', 'Pathfinder', 'Phaeton', 'Phantom Coupe', 'Phantom Drophead Coupe', 'Phantom', 'Pickup', 'Pilot', 'Prelude', 'Previa', 'Prius c', 'Prius Prime', 'Prius v', 'Prius', 'Prizm', 'Probe', 'Protege5', 'Protege', 'Prowler', 'PT Cruiser', 'Q3', 'Q40', 'Q45', 'Q50', 'Q5', 'Q60 Convertible', 'Q60 Coupe', 'Q70', 'Q7', 'Quattroporte', 'Quest', 'QX4', 'QX50', 'QX56', 'QX60', 'QX70', 'QX80', 'QX', 'R-Class', 'R32', 'R8', 'Rabbit', 'Raider', 'Rainier', 'Rally Wagon', 'RAM 150', 'RAM 250', 'Ram 50 Pickup', 'Ram Cargo', 'Ram Pickup 1500', 'Ram Van', 'Ram Wagon', 'Ramcharger', 'Range Rover Evoque', 'Range Rover Sport', 'Range Rover', 'Ranger', 'Rapide S', 'Rapide', 'RAV4 EV', 'RAV4 Hybrid', 'RAV4', 'RC 200t', 'RC 300', 'RC 350', 'RC F', 'RDX', 'Reatta', 'Regal', 'Regency', 'Rendezvous', 'Reno', 'Reventon', 'Ridgeline', 'Rio', 'Riviera', 'RL', 'RLX', 'Roadmaster', 'Rogue Select', 'Rogue', 'Rondo', 'Routan', 'RS 4', 'RS 5', 'RS 6', 'RS 7', 'RSX', 'RX 300', 'RX 330', 'RX 350', 'RX 400h', 'RX 450h', 'RX-7', 'RX-8', 'S-10 Blazer', 'S-10', 'S-15 Jimmy', 'S-15', 'S-Class', 'S2000', 'S3', 'S40', 'S4', 'S5', 'S60 Cross Country', 'S60', 'S6', 'S70', 'S7', 'S80', 'S8', 'S90', 'Safari Cargo', 'Safari', 'Samurai', 'Santa Fe Sport', 'Santa Fe', 'Savana Cargo', 'Savana', 'SC 300', 'SC 400', 'SC 430', 'Scoupe', 'Sebring', 'Sedona', 'Sentra', 'Sephia', 'Sequoia', 'Seville', 'Shadow', 'Shelby GT350', 'Shelby GT500', 'Sidekick', 'Sienna', 'Sierra 1500 Classic', 'Sierra 1500 Hybrid', 'Sierra 1500', 'Sierra 1500HD', 'Sierra C3', 'Sierra Classic 1500', 'Sigma', 'Silhouette', 'Silver Seraph', 'Silverado 1500 Classic', 'Silverado 1500 Hybrid', 'Silverado 1500', 'Sixty Special', 'Skylark', 'SL-Class', 'SLC-Class', 'SLK-Class', 'SLR McLaren', 'SLS AMG GT Final Edition', 'SLS AMG GT', 'SLS AMG', 'SLX', 'Solstice', 'Sonata Hybrid', 'Sonata', 'Sonic', 'Sonoma', 'Sorento', 'Soul EV', 'Soul', 'Spark EV', 'Spark', 'Spectra', 'Spirit', 'Sportage', 'Sportvan', 'Spyder', 'SQ5', 'SRT Viper', 'SRX', 'SS', 'SSR', 'Stanza', 'Stealth', 'Stratus', 'STS-V', 'STS', 'Suburban', 'Sunbird', 'Sundance', 'Sunfire', 'Superamerica', 'Supersports Convertible ISR', 'Supra', 'SVX', 'Swift', 'SX4', 'Syclone', 'T100', 'Tacoma', 'Tahoe Hybrid', 'Tahoe Limited/Z71', 'Tahoe', 'Taurus X', 'Taurus', 'TC', 'tC', 'Tempo', 'Tercel', 'Terrain', 'Terraza', 'Thunderbird', 'Tiburon', 'Tiguan', 'Titan', 'TL', 'TLX', 'Toronado', 'Torrent', 'Touareg 2', 'Touareg', 'Town and Country', 'Town Car', 'Tracker', 'TrailBlazer EXT', 'TrailBlazer', 'Trans Sport', 'Transit Connect', 'Transit Wagon', 'Traverse', 'Trax', 'Tribeca', 'Tribute Hybrid', 'Tribute', 'Truck', 'TSX Sport Wagon', 'TSX', 'TT RS', 'TT', 'TTS', 'Tucson', 'Tundra', 'Typhoon', 'Uplander', 'V12 Vanquish', 'V12 Vantage S', 'V12 Vantage', 'V40', 'V50', 'V60 Cross Country', 'V60', 'V70', 'V8 Vantage', 'V8', 'V90', 'Vanagon', 'Vandura', 'Van', 'Vanquish', 'Vanwagon', 'Veloster', 'Venture', 'Venza', 'Veracruz', 'Verano', 'Verona', 'Versa Note', 'Versa', 'Veyron 16.4', 'Vibe', 'Vigor', 'Viper', 'Virage', 'Vitara', 'Voyager', 'Windstar Cargo', 'Windstar', 'Wraith', 'WRX', 'X-90', 'X1', 'X3', 'X4', 'X5 M', 'X5', 'X6 M', 'X6', 'xA', 'xB', 'XC60', 'XC70', 'XC90', 'XC', 'xD', 'XG300', 'XG350', 'XL-7', 'XL7', 'XLR-V', 'XLR', 'XT5', 'Xterra', 'XTS', 'XT', 'XV Crosstrek', 'Yaris iA', 'Yaris', 'Yukon Denali', 'Yukon Hybrid', 'Yukon XL', 'Yukon', 'Z3', 'Z4 M', 'Z4', 'Z8', 'ZDX', 'Zephyr']\n",
      "2 : Year : int64\n",
      "種類：28、最小値：1990.000000、最大値：2017.000000、欠損データ有無：0\n",
      "3 : Engine Fuel Type : object\n",
      "['premium unleaded (required)', 'regular unleaded', 'premium unleaded (recommended)', 'flex-fuel (unleaded/E85)', 'diesel', 'electric', 'flex-fuel (premium unleaded recommended/E85)', 'natural gas', 'flex-fuel (premium unleaded required/E85)', 'flex-fuel (unleaded/natural gas)', nan]\n",
      "4 : Engine HP : float64\n",
      "種類：351、最小値：55.000000、最大値：1001.000000、欠損データ有無：53\n",
      "5 : Engine Cylinders : float64\n",
      "種類：10、最小値：0.000000、最大値：16.000000、欠損データ有無：22\n",
      "6 : Transmission Type : object\n",
      "['MANUAL', 'AUTOMATIC', 'AUTOMATED_MANUAL', 'DIRECT_DRIVE', 'UNKNOWN']\n",
      "7 : Driven_Wheels : object\n",
      "['rear wheel drive', 'front wheel drive', 'all wheel drive', 'four wheel drive']\n",
      "8 : Number of Doors : float64\n",
      "種類：4、最小値：2.000000、最大値：4.000000、欠損データ有無：6\n",
      "9 : Market Category : object\n",
      "['Factory Tuner,Luxury,High-Performance', 'Luxury,Performance', 'Luxury,High-Performance', 'Luxury', 'Performance', 'Flex Fuel', 'Flex Fuel,Performance', nan, 'Hatchback', 'Hatchback,Luxury,Performance', 'Hatchback,Luxury', 'Luxury,High-Performance,Hybrid', 'Diesel,Luxury', 'Hatchback,Performance', 'Hatchback,Factory Tuner,Performance', 'High-Performance', 'Factory Tuner,High-Performance', 'Exotic,High-Performance', 'Exotic,Factory Tuner,High-Performance', 'Factory Tuner,Performance', 'Crossover', 'Exotic,Luxury', 'Exotic,Luxury,High-Performance', 'Exotic,Luxury,Performance', 'Factory Tuner,Luxury,Performance', 'Flex Fuel,Luxury', 'Crossover,Luxury', 'Hatchback,Factory Tuner,Luxury,Performance', 'Crossover,Hatchback', 'Hybrid', 'Luxury,Performance,Hybrid', 'Crossover,Luxury,Performance', 'Exotic,Factory Tuner,Luxury,High-Performance', 'Flex Fuel,Luxury,High-Performance', 'Crossover,Flex Fuel', 'Diesel', 'Hatchback,Diesel', 'Crossover,Luxury,Diesel', 'Crossover,Luxury,High-Performance', 'Exotic,Flex Fuel,Factory Tuner,Luxury,High-Performance', 'Exotic,Flex Fuel,Luxury,High-Performance', 'Exotic,Factory Tuner,Luxury,Performance', 'Hatchback,Hybrid', 'Crossover,Hybrid', 'Hatchback,Luxury,Hybrid', 'Flex Fuel,Luxury,Performance', 'Crossover,Performance', 'Luxury,Hybrid', 'Crossover,Flex Fuel,Luxury,Performance', 'Crossover,Flex Fuel,Luxury', 'Crossover,Flex Fuel,Performance', 'Hatchback,Factory Tuner,High-Performance', 'Hatchback,Flex Fuel', 'Factory Tuner,Luxury', 'Crossover,Factory Tuner,Luxury,High-Performance', 'Crossover,Factory Tuner,Luxury,Performance', 'Crossover,Hatchback,Performance', 'Crossover,Hatchback,Factory Tuner,Performance', 'Flex Fuel,Hybrid', 'Flex Fuel,Performance,Hybrid', 'Crossover,Exotic,Luxury,High-Performance', 'Crossover,Exotic,Luxury,Performance', 'Exotic,Performance', 'Exotic,Luxury,High-Performance,Hybrid', 'Crossover,Luxury,Hybrid', 'Flex Fuel,Factory Tuner,Luxury,High-Performance', 'Performance,Hybrid', 'Crossover,Factory Tuner,Performance', 'Crossover,Diesel', 'Flex Fuel,Diesel', 'Crossover,Hatchback,Luxury']\n",
      "10 : Vehicle Size : object\n",
      "['Compact', 'Midsize', 'Large']\n",
      "11 : Vehicle Style : object\n",
      "['Coupe', 'Convertible', 'Sedan', 'Wagon', '4dr Hatchback', '2dr Hatchback', '4dr SUV', 'Passenger Minivan', 'Cargo Minivan', 'Crew Cab Pickup', 'Regular Cab Pickup', 'Extended Cab Pickup', '2dr SUV', 'Cargo Van', 'Convertible SUV', 'Passenger Van']\n",
      "12 : highway MPG : int64\n",
      "種類：56、最小値：12.000000、最大値：111.000000、欠損データ有無：0\n",
      "13 : city mpg : int64\n",
      "種類：67、最小値：7.000000、最大値：137.000000、欠損データ有無：0\n",
      "14 : Popularity : int64\n",
      "種類：48、最小値：2.000000、最大値：5657.000000、欠損データ有無：0\n"
     ]
    }
   ],
   "source": [
    "for i in range(X.shape[1]):\n",
    "    print('%d : %s : %s' %(i, X.iloc[:,i].name,X.iloc[:,i].dtypes))\n",
    "\n",
    "    if X.iloc[:,i].dtypes == object:\n",
    "        print(list(X.iloc[:,i].unique()))\n",
    "    else:\n",
    "        print('種類：%d、最小値：%f、最大値：%f、欠損データ有無：%s' %(len(X.iloc[:,i].unique()),X.iloc[:,i].min(),X.iloc[:,i].max(), X.isnull().sum()[i]))"
   ]
  },
  {
   "cell_type": "markdown",
   "metadata": {},
   "source": [
    "## 2. データの加工\n",
    "- 欠損状況の確認\n",
    "- 基本統計量の確認\n",
    "- yearに関する新しい特徴量の作成\n",
    "- 欠損値の補完\n",
    "- 使用する特徴量の選択"
   ]
  },
  {
   "cell_type": "markdown",
   "metadata": {},
   "source": [
    "#### ●欠損状況の確認"
   ]
  },
  {
   "cell_type": "code",
   "execution_count": 52,
   "metadata": {},
   "outputs": [
    {
     "data": {
      "text/plain": [
       "Make                    0\n",
       "Model                   0\n",
       "Year                    0\n",
       "Engine Fuel Type        3\n",
       "Engine HP              53\n",
       "Engine Cylinders       22\n",
       "Transmission Type       0\n",
       "Driven_Wheels           0\n",
       "Number of Doors         6\n",
       "Market Category      2999\n",
       "Vehicle Size            0\n",
       "Vehicle Style           0\n",
       "highway MPG             0\n",
       "city mpg                0\n",
       "Popularity              0\n",
       "MSRP                    0\n",
       "dtype: int64"
      ]
     },
     "metadata": {},
     "output_type": "display_data"
    }
   ],
   "source": [
    "display(df_data.isnull().sum())"
   ]
  },
  {
   "cell_type": "markdown",
   "metadata": {},
   "source": [
    "#### ●基本統計量の確認"
   ]
  },
  {
   "cell_type": "code",
   "execution_count": 53,
   "metadata": {},
   "outputs": [
    {
     "data": {
      "text/html": [
       "<div>\n",
       "<style scoped>\n",
       "    .dataframe tbody tr th:only-of-type {\n",
       "        vertical-align: middle;\n",
       "    }\n",
       "\n",
       "    .dataframe tbody tr th {\n",
       "        vertical-align: top;\n",
       "    }\n",
       "\n",
       "    .dataframe thead th {\n",
       "        text-align: right;\n",
       "    }\n",
       "</style>\n",
       "<table border=\"1\" class=\"dataframe\">\n",
       "  <thead>\n",
       "    <tr style=\"text-align: right;\">\n",
       "      <th></th>\n",
       "      <th>Year</th>\n",
       "      <th>Engine HP</th>\n",
       "      <th>Engine Cylinders</th>\n",
       "      <th>Number of Doors</th>\n",
       "      <th>highway MPG</th>\n",
       "      <th>city mpg</th>\n",
       "      <th>Popularity</th>\n",
       "      <th>MSRP</th>\n",
       "    </tr>\n",
       "  </thead>\n",
       "  <tbody>\n",
       "    <tr>\n",
       "      <th>count</th>\n",
       "      <td>9532.000000</td>\n",
       "      <td>9479.000000</td>\n",
       "      <td>9510.000000</td>\n",
       "      <td>9526.000000</td>\n",
       "      <td>9532.000000</td>\n",
       "      <td>9532.000000</td>\n",
       "      <td>9532.000000</td>\n",
       "      <td>9.532000e+03</td>\n",
       "    </tr>\n",
       "    <tr>\n",
       "      <th>mean</th>\n",
       "      <td>2010.399077</td>\n",
       "      <td>249.478637</td>\n",
       "      <td>5.632387</td>\n",
       "      <td>3.435335</td>\n",
       "      <td>26.605120</td>\n",
       "      <td>19.720835</td>\n",
       "      <td>1556.407260</td>\n",
       "      <td>4.078378e+04</td>\n",
       "    </tr>\n",
       "    <tr>\n",
       "      <th>std</th>\n",
       "      <td>7.549785</td>\n",
       "      <td>109.239858</td>\n",
       "      <td>1.786855</td>\n",
       "      <td>0.881758</td>\n",
       "      <td>8.306401</td>\n",
       "      <td>8.906915</td>\n",
       "      <td>1443.035732</td>\n",
       "      <td>6.264147e+04</td>\n",
       "    </tr>\n",
       "    <tr>\n",
       "      <th>min</th>\n",
       "      <td>1990.000000</td>\n",
       "      <td>55.000000</td>\n",
       "      <td>0.000000</td>\n",
       "      <td>2.000000</td>\n",
       "      <td>12.000000</td>\n",
       "      <td>7.000000</td>\n",
       "      <td>2.000000</td>\n",
       "      <td>2.000000e+03</td>\n",
       "    </tr>\n",
       "    <tr>\n",
       "      <th>25%</th>\n",
       "      <td>2007.000000</td>\n",
       "      <td>170.000000</td>\n",
       "      <td>4.000000</td>\n",
       "      <td>2.000000</td>\n",
       "      <td>22.000000</td>\n",
       "      <td>16.000000</td>\n",
       "      <td>549.000000</td>\n",
       "      <td>2.114375e+04</td>\n",
       "    </tr>\n",
       "    <tr>\n",
       "      <th>50%</th>\n",
       "      <td>2015.000000</td>\n",
       "      <td>227.000000</td>\n",
       "      <td>6.000000</td>\n",
       "      <td>4.000000</td>\n",
       "      <td>26.000000</td>\n",
       "      <td>18.000000</td>\n",
       "      <td>1385.000000</td>\n",
       "      <td>2.999500e+04</td>\n",
       "    </tr>\n",
       "    <tr>\n",
       "      <th>75%</th>\n",
       "      <td>2016.000000</td>\n",
       "      <td>300.000000</td>\n",
       "      <td>6.000000</td>\n",
       "      <td>4.000000</td>\n",
       "      <td>30.000000</td>\n",
       "      <td>22.000000</td>\n",
       "      <td>2009.000000</td>\n",
       "      <td>4.222000e+04</td>\n",
       "    </tr>\n",
       "    <tr>\n",
       "      <th>max</th>\n",
       "      <td>2017.000000</td>\n",
       "      <td>1001.000000</td>\n",
       "      <td>16.000000</td>\n",
       "      <td>4.000000</td>\n",
       "      <td>111.000000</td>\n",
       "      <td>137.000000</td>\n",
       "      <td>5657.000000</td>\n",
       "      <td>2.065902e+06</td>\n",
       "    </tr>\n",
       "  </tbody>\n",
       "</table>\n",
       "</div>"
      ],
      "text/plain": [
       "              Year    Engine HP  Engine Cylinders  Number of Doors  \\\n",
       "count  9532.000000  9479.000000       9510.000000      9526.000000   \n",
       "mean   2010.399077   249.478637          5.632387         3.435335   \n",
       "std       7.549785   109.239858          1.786855         0.881758   \n",
       "min    1990.000000    55.000000          0.000000         2.000000   \n",
       "25%    2007.000000   170.000000          4.000000         2.000000   \n",
       "50%    2015.000000   227.000000          6.000000         4.000000   \n",
       "75%    2016.000000   300.000000          6.000000         4.000000   \n",
       "max    2017.000000  1001.000000         16.000000         4.000000   \n",
       "\n",
       "       highway MPG     city mpg   Popularity          MSRP  \n",
       "count  9532.000000  9532.000000  9532.000000  9.532000e+03  \n",
       "mean     26.605120    19.720835  1556.407260  4.078378e+04  \n",
       "std       8.306401     8.906915  1443.035732  6.264147e+04  \n",
       "min      12.000000     7.000000     2.000000  2.000000e+03  \n",
       "25%      22.000000    16.000000   549.000000  2.114375e+04  \n",
       "50%      26.000000    18.000000  1385.000000  2.999500e+04  \n",
       "75%      30.000000    22.000000  2009.000000  4.222000e+04  \n",
       "max     111.000000   137.000000  5657.000000  2.065902e+06  "
      ]
     },
     "execution_count": 53,
     "metadata": {},
     "output_type": "execute_result"
    }
   ],
   "source": [
    "df_data.describe()"
   ]
  },
  {
   "cell_type": "markdown",
   "metadata": {},
   "source": [
    "#### ●yearに関する特徴量の作成\n",
    "- 特徴量作成の1つの例として、yearのデータをもとに車両が販売されてからの経過年数という新しい特徴量を生成する。"
   ]
  },
  {
   "cell_type": "code",
   "execution_count": 54,
   "metadata": {},
   "outputs": [
    {
     "data": {
      "text/html": [
       "<div>\n",
       "<style scoped>\n",
       "    .dataframe tbody tr th:only-of-type {\n",
       "        vertical-align: middle;\n",
       "    }\n",
       "\n",
       "    .dataframe tbody tr th {\n",
       "        vertical-align: top;\n",
       "    }\n",
       "\n",
       "    .dataframe thead th {\n",
       "        text-align: right;\n",
       "    }\n",
       "</style>\n",
       "<table border=\"1\" class=\"dataframe\">\n",
       "  <thead>\n",
       "    <tr style=\"text-align: right;\">\n",
       "      <th></th>\n",
       "      <th>Make</th>\n",
       "      <th>Model</th>\n",
       "      <th>Year</th>\n",
       "      <th>Engine Fuel Type</th>\n",
       "      <th>Engine HP</th>\n",
       "      <th>Engine Cylinders</th>\n",
       "      <th>Transmission Type</th>\n",
       "      <th>Driven_Wheels</th>\n",
       "      <th>Number of Doors</th>\n",
       "      <th>Market Category</th>\n",
       "      <th>Vehicle Size</th>\n",
       "      <th>Vehicle Style</th>\n",
       "      <th>highway MPG</th>\n",
       "      <th>city mpg</th>\n",
       "      <th>Popularity</th>\n",
       "      <th>Duration Since Production</th>\n",
       "    </tr>\n",
       "  </thead>\n",
       "  <tbody>\n",
       "    <tr>\n",
       "      <th>0</th>\n",
       "      <td>BMW</td>\n",
       "      <td>1 Series M</td>\n",
       "      <td>2011</td>\n",
       "      <td>premium unleaded (required)</td>\n",
       "      <td>335.0</td>\n",
       "      <td>6.0</td>\n",
       "      <td>MANUAL</td>\n",
       "      <td>rear wheel drive</td>\n",
       "      <td>2.0</td>\n",
       "      <td>Factory Tuner,Luxury,High-Performance</td>\n",
       "      <td>Compact</td>\n",
       "      <td>Coupe</td>\n",
       "      <td>26</td>\n",
       "      <td>19</td>\n",
       "      <td>3916</td>\n",
       "      <td>6</td>\n",
       "    </tr>\n",
       "    <tr>\n",
       "      <th>1</th>\n",
       "      <td>BMW</td>\n",
       "      <td>1 Series</td>\n",
       "      <td>2011</td>\n",
       "      <td>premium unleaded (required)</td>\n",
       "      <td>300.0</td>\n",
       "      <td>6.0</td>\n",
       "      <td>MANUAL</td>\n",
       "      <td>rear wheel drive</td>\n",
       "      <td>2.0</td>\n",
       "      <td>Luxury,Performance</td>\n",
       "      <td>Compact</td>\n",
       "      <td>Convertible</td>\n",
       "      <td>28</td>\n",
       "      <td>19</td>\n",
       "      <td>3916</td>\n",
       "      <td>6</td>\n",
       "    </tr>\n",
       "    <tr>\n",
       "      <th>2</th>\n",
       "      <td>BMW</td>\n",
       "      <td>1 Series</td>\n",
       "      <td>2011</td>\n",
       "      <td>premium unleaded (required)</td>\n",
       "      <td>300.0</td>\n",
       "      <td>6.0</td>\n",
       "      <td>MANUAL</td>\n",
       "      <td>rear wheel drive</td>\n",
       "      <td>2.0</td>\n",
       "      <td>Luxury,High-Performance</td>\n",
       "      <td>Compact</td>\n",
       "      <td>Coupe</td>\n",
       "      <td>28</td>\n",
       "      <td>20</td>\n",
       "      <td>3916</td>\n",
       "      <td>6</td>\n",
       "    </tr>\n",
       "    <tr>\n",
       "      <th>3</th>\n",
       "      <td>BMW</td>\n",
       "      <td>1 Series</td>\n",
       "      <td>2011</td>\n",
       "      <td>premium unleaded (required)</td>\n",
       "      <td>230.0</td>\n",
       "      <td>6.0</td>\n",
       "      <td>MANUAL</td>\n",
       "      <td>rear wheel drive</td>\n",
       "      <td>2.0</td>\n",
       "      <td>Luxury,Performance</td>\n",
       "      <td>Compact</td>\n",
       "      <td>Coupe</td>\n",
       "      <td>28</td>\n",
       "      <td>18</td>\n",
       "      <td>3916</td>\n",
       "      <td>6</td>\n",
       "    </tr>\n",
       "    <tr>\n",
       "      <th>4</th>\n",
       "      <td>BMW</td>\n",
       "      <td>1 Series</td>\n",
       "      <td>2011</td>\n",
       "      <td>premium unleaded (required)</td>\n",
       "      <td>230.0</td>\n",
       "      <td>6.0</td>\n",
       "      <td>MANUAL</td>\n",
       "      <td>rear wheel drive</td>\n",
       "      <td>2.0</td>\n",
       "      <td>Luxury</td>\n",
       "      <td>Compact</td>\n",
       "      <td>Convertible</td>\n",
       "      <td>28</td>\n",
       "      <td>18</td>\n",
       "      <td>3916</td>\n",
       "      <td>6</td>\n",
       "    </tr>\n",
       "  </tbody>\n",
       "</table>\n",
       "</div>"
      ],
      "text/plain": [
       "  Make       Model  Year             Engine Fuel Type  Engine HP  \\\n",
       "0  BMW  1 Series M  2011  premium unleaded (required)      335.0   \n",
       "1  BMW    1 Series  2011  premium unleaded (required)      300.0   \n",
       "2  BMW    1 Series  2011  premium unleaded (required)      300.0   \n",
       "3  BMW    1 Series  2011  premium unleaded (required)      230.0   \n",
       "4  BMW    1 Series  2011  premium unleaded (required)      230.0   \n",
       "\n",
       "   Engine Cylinders Transmission Type     Driven_Wheels  Number of Doors  \\\n",
       "0               6.0            MANUAL  rear wheel drive              2.0   \n",
       "1               6.0            MANUAL  rear wheel drive              2.0   \n",
       "2               6.0            MANUAL  rear wheel drive              2.0   \n",
       "3               6.0            MANUAL  rear wheel drive              2.0   \n",
       "4               6.0            MANUAL  rear wheel drive              2.0   \n",
       "\n",
       "                         Market Category Vehicle Size Vehicle Style  \\\n",
       "0  Factory Tuner,Luxury,High-Performance      Compact         Coupe   \n",
       "1                     Luxury,Performance      Compact   Convertible   \n",
       "2                Luxury,High-Performance      Compact         Coupe   \n",
       "3                     Luxury,Performance      Compact         Coupe   \n",
       "4                                 Luxury      Compact   Convertible   \n",
       "\n",
       "   highway MPG  city mpg  Popularity  Duration Since Production  \n",
       "0           26        19        3916                          6  \n",
       "1           28        19        3916                          6  \n",
       "2           28        20        3916                          6  \n",
       "3           28        18        3916                          6  \n",
       "4           28        18        3916                          6  "
      ]
     },
     "metadata": {},
     "output_type": "display_data"
    }
   ],
   "source": [
    "# 2017年を基準に車両が販売されてからの経過年数を新しい特徴量として生成する\n",
    "X['Duration Since Production'] = 2017 - X['Year']\n",
    "display(X.head(5))"
   ]
  },
  {
   "cell_type": "markdown",
   "metadata": {},
   "source": [
    "#### <font color=blue>・マーケットカテゴリをone-hot化</font>"
   ]
  },
  {
   "cell_type": "code",
   "execution_count": 55,
   "metadata": {},
   "outputs": [],
   "source": [
    "MC = ['Luxury','High-Performance','Performance','Flex Fuel','Hatchback','Hybrid','Diesel','Factory Tuner','Exotic','Crossover']\n",
    "for i in MC:\n",
    "    X['Market Category '+i] = X['Market Category'].str.contains(i)*1\n",
    "    X['Market Category '+i] = X['Market Category '+i].fillna(0)\n",
    "\n",
    "X = X.drop('Market Category',axis=1)"
   ]
  },
  {
   "cell_type": "markdown",
   "metadata": {},
   "source": [
    "#### <font color=blue>・Vehicle Sizeをリスト化</font>"
   ]
  },
  {
   "cell_type": "code",
   "execution_count": 56,
   "metadata": {},
   "outputs": [],
   "source": [
    "VS_dict = {'Compact':1, 'Midsize':2, 'Large':3 }\n",
    "X['Vehicle Size'] = X['Vehicle Size'].map(VS_dict)"
   ]
  },
  {
   "cell_type": "markdown",
   "metadata": {},
   "source": [
    "#### ●欠損値の補完"
   ]
  },
  {
   "cell_type": "code",
   "execution_count": 57,
   "metadata": {
    "scrolled": false
   },
   "outputs": [
    {
     "data": {
      "text/plain": [
       "Make                                0\n",
       "Model                               0\n",
       "Year                                0\n",
       "Engine Fuel Type                    3\n",
       "Engine HP                           0\n",
       "Engine Cylinders                    0\n",
       "Transmission Type                   0\n",
       "Driven_Wheels                       0\n",
       "Number of Doors                     0\n",
       "Vehicle Size                        0\n",
       "Vehicle Style                       0\n",
       "highway MPG                         0\n",
       "city mpg                            0\n",
       "Popularity                          0\n",
       "Duration Since Production           0\n",
       "Market Category Luxury              0\n",
       "Market Category High-Performance    0\n",
       "Market Category Performance         0\n",
       "Market Category Flex Fuel           0\n",
       "Market Category Hatchback           0\n",
       "Market Category Hybrid              0\n",
       "Market Category Diesel              0\n",
       "Market Category Factory Tuner       0\n",
       "Market Category Exotic              0\n",
       "Market Category Crossover           0\n",
       "dtype: int64"
      ]
     },
     "metadata": {},
     "output_type": "display_data"
    }
   ],
   "source": [
    "# Engine HP, Engine Cylinders, Number of Doorsの欠損値を中央値で補完する\n",
    "X = X.fillna(X.median())\n",
    "\n",
    "# 欠損が補完されたことを確認する\n",
    "display(X.isnull().sum())"
   ]
  },
  {
   "cell_type": "markdown",
   "metadata": {},
   "source": [
    "#### <font color=blue>・モデルを削除する"
   ]
  },
  {
   "cell_type": "code",
   "execution_count": 58,
   "metadata": {},
   "outputs": [],
   "source": [
    "X = X.drop('Year',axis=1)\n",
    "X = X.drop('Model',axis=1)"
   ]
  },
  {
   "cell_type": "markdown",
   "metadata": {},
   "source": [
    "#### <font color = blue>・One-hot-Vectle化する"
   ]
  },
  {
   "cell_type": "code",
   "execution_count": 59,
   "metadata": {},
   "outputs": [],
   "source": [
    "X_ohe = pd.get_dummies(X)"
   ]
  },
  {
   "cell_type": "markdown",
   "metadata": {},
   "source": [
    "#### ・カテゴリをリスト化する"
   ]
  },
  {
   "cell_type": "code",
   "execution_count": 60,
   "metadata": {},
   "outputs": [],
   "source": [
    "# from sklearn.preprocessing import LabelEncoder\n",
    "# for i in range(X_complement.shape[1]):\n",
    "#     if X_complement.iloc[:,i].dtypes == object:\n",
    "#         lbl = LabelEncoder()\n",
    "#         lbl.fit(list(X_complement.iloc[:,i].values)\n",
    "#         lbl.transform(list(X_complement .iloc[:,i].values))"
   ]
  },
  {
   "cell_type": "markdown",
   "metadata": {},
   "source": [
    "#### ●使用する特徴量の選択"
   ]
  },
  {
   "cell_type": "code",
   "execution_count": 61,
   "metadata": {
    "scrolled": false
   },
   "outputs": [],
   "source": [
    "# # 特徴量を選択する\n",
    "# X_choice = X_complement[['Engine HP', 'Engine Cylinders',\n",
    "#                          'highway MPG', 'city mpg',\n",
    "#                          'Popularity', 'Duration Since Production']]\n",
    "\n",
    "# # 使用する特徴量の選択の正常終了を確認する\n",
    "# display(X_choice.head(5))"
   ]
  },
  {
   "cell_type": "code",
   "execution_count": null,
   "metadata": {},
   "outputs": [
    {
     "name": "stderr",
     "output_type": "stream",
     "text": [
      "/anaconda3/lib/python3.6/site-packages/sklearn/model_selection/_split.py:605: Warning: The least populated class in y has only 1 members, which is too few. The minimum number of members in any class cannot be less than n_splits=3.\n",
      "  % (min_groups, self.n_splits)), Warning)\n"
     ]
    }
   ],
   "source": [
    "import matplotlib.pyplot as plt\n",
    "# from sklearn.svm import SVC\n",
    "# from sklearn.model_selection import StratifiedKFold\n",
    "from sklearn.feature_selection import RFECV\n",
    "from sklearn.ensemble import RandomForestClassifier\n",
    "\n",
    "selector = RFECV(estimator=RandomForestClassifier(random_state=1), step=.05)\n",
    "selector.fit(X_ohe, y)\n",
    "train_cols = X_ohe.columns.values\n",
    "X_choice = X_ohe.loc[:, train_cols[selector.support_]]\n",
    "\n",
    "# # SVMによる分類\n",
    "# estimator = SVC(kernel='linear')\n",
    "\n",
    "# # # 5分割交差検証\n",
    "# # cv = StratifiedKFold(5)\n",
    "\n",
    "# # 特徴量削減\n",
    "# rfecv = RFECV(estimator, scoring='accuracy', step=1)\n",
    "\n",
    "# # 学習\n",
    "# rfecv.fit(X_choice, y)\n",
    "\n",
    "# print('Feature ranking: \\n{}'.format(rfecv.ranking_))"
   ]
  },
  {
   "cell_type": "markdown",
   "metadata": {},
   "source": [
    "## 3. 学習器の作成と評価\n",
    "- ホールドアウトによる学習用データ、検証用データの分割\n",
    "- 線形回帰による予測モデル作成\n",
    "- 作成したモデルによる予測値算出\n",
    "- RMSEによるモデル評価"
   ]
  },
  {
   "cell_type": "markdown",
   "metadata": {},
   "source": [
    "#### ●ホールドアウトによる学習用データ、検証用データの分割"
   ]
  },
  {
   "cell_type": "code",
   "execution_count": 29,
   "metadata": {},
   "outputs": [],
   "source": [
    "from sklearn.preprocessing import StandardScaler\n",
    "scl  = StandardScaler()\n",
    "X_choice = scl.fit_transform(X_ohe)"
   ]
  },
  {
   "cell_type": "code",
   "execution_count": 30,
   "metadata": {},
   "outputs": [
    {
     "data": {
      "text/plain": [
       "(8578, 101)"
      ]
     },
     "metadata": {},
     "output_type": "display_data"
    },
    {
     "data": {
      "text/plain": [
       "(954, 101)"
      ]
     },
     "metadata": {},
     "output_type": "display_data"
    },
    {
     "data": {
      "text/plain": [
       "(8578,)"
      ]
     },
     "metadata": {},
     "output_type": "display_data"
    },
    {
     "data": {
      "text/plain": [
       "(954,)"
      ]
     },
     "metadata": {},
     "output_type": "display_data"
    }
   ],
   "source": [
    "X_train, X_test, y_train, y_test = train_test_split(X_choice,\n",
    "                                                    y,\n",
    "                                                    test_size=0.10,\n",
    "                                                    random_state=0)\n",
    "\n",
    "# 学習用データ、検証用データの分割の正常終了を確認する\n",
    "display(X_train.shape, X_test.shape, y_train.shape, y_test.shape)"
   ]
  },
  {
   "cell_type": "code",
   "execution_count": 47,
   "metadata": {},
   "outputs": [
    {
     "data": {
      "text/plain": [
       "8028.414434912795"
      ]
     },
     "metadata": {},
     "output_type": "display_data"
    },
    {
     "data": {
      "text/plain": [
       "8882.411008138602"
      ]
     },
     "metadata": {},
     "output_type": "display_data"
    }
   ],
   "source": [
    "from sklearn.ensemble import RandomForestRegressor\n",
    "# rf = RandomForestRegressor(n_estimators=200, max_features='auto',max_depth = 20)\n",
    "rf = RandomForestRegressor(n_estimators=200, max_features=20)\n",
    "rf.fit(X_train, y_train)\n",
    "display(np.sqrt(mean_squared_error(y_train, rf.predict(X_train))))\n",
    "display(np.sqrt(mean_squared_error(y_test, rf.predict(X_test))))"
   ]
  },
  {
   "cell_type": "code",
   "execution_count": null,
   "metadata": {},
   "outputs": [],
   "source": [
    "import matplotlib.pyplot as plt\n",
    "import seaborn as sns\n",
    "feature=rf.feature_importances_\n",
    "f = pd.DataFrame({'number': range(len(feature)),'name':X_train.columns.values,\n",
    "             'feature': feature[:]}).sort_values('feature',ascending=False)\n",
    "sns.barplot(x=f['feature'].head(20),y=f['number'].head(20).astype(str)+' '+f['name'].head(20))\n",
    "plt.show()"
   ]
  },
  {
   "cell_type": "code",
   "execution_count": null,
   "metadata": {},
   "outputs": [],
   "source": [
    "import lightgbm as lgb"
   ]
  },
  {
   "cell_type": "code",
   "execution_count": null,
   "metadata": {},
   "outputs": [],
   "source": [
    "model = lgb.LGBMRegressor(n_estimators=500,reg_lambda=0.1,randam_state=100)\n",
    "model.fit(X_train, y_train)\n",
    "\n",
    "# 線形回帰モデルの学習を行った学習器に対して学習用データ、検証用データでRMSEを計算する\n",
    "display(np.sqrt(mean_squared_error(y_train, model.predict(X_train))))\n",
    "display(np.sqrt(mean_squared_error(y_test, model.predict(X_test))))\n",
    "\n",
    "# 検証データの予測結果を表示する\n",
    "predict_X_test = model.predict(X_test)\n",
    "display(predict_X_test)"
   ]
  },
  {
   "cell_type": "code",
   "execution_count": null,
   "metadata": {},
   "outputs": [],
   "source": [
    "# 事前準備\n",
    "from keras.models import Sequential\n",
    "from keras.layers import Dense, Activation\n",
    "\n",
    "# モデルを作るぞ！と宣言\n",
    "model = Sequential()"
   ]
  },
  {
   "cell_type": "code",
   "execution_count": null,
   "metadata": {},
   "outputs": [],
   "source": [
    "model.add(Dense(3, input_dim = len(X_train.columns), activation='relu'))\n",
    "model.add(Dense(3, activation='relu'))\n",
    "model.add(Dense(1, activation='linear'))\n",
    "model.compile(optimizer='rmsprop',\n",
    "              loss='binary_crossentropy',\n",
    "              metrics=['accuracy'])\n",
    "\n",
    "# train\n",
    "model.fit(X_train, y_train, nb_epoch=10, batch_size=4)"
   ]
  },
  {
   "cell_type": "markdown",
   "metadata": {},
   "source": [
    "#### ●線形回帰による予測モデル作成"
   ]
  },
  {
   "cell_type": "code",
   "execution_count": null,
   "metadata": {},
   "outputs": [],
   "source": [
    "# 線形回帰モデルの学習を行う\n",
    "linear_regression = linear_model.LinearRegression()\n",
    "linear_regression.fit(X_train, y_train)\n",
    "\n",
    "# 線形回帰モデルの学習を行った学習器に対して学習用データ、検証用データでRMSEを計算する\n",
    "display(np.sqrt(mean_squared_error(y_train, linear_regression.predict(X_train))))\n",
    "display(np.sqrt(mean_squared_error(y_test, linear_regression.predict(X_test))))\n",
    "\n",
    "# 検証データの予測結果を表示する\n",
    "predict_X_test = linear_regression.predict(X_test)\n",
    "display(predict_X_test)"
   ]
  },
  {
   "cell_type": "markdown",
   "metadata": {},
   "source": [
    "## 4. scoreデータの予測値をcsv出力\n",
    "- scoreデータの読み込み\n",
    "- 特徴量Xの設定\n",
    "- データの加工\n",
    "- 3.で作成した学習器に対してtestデータの特徴量から予測値算出\n",
    "- 予測値のcsv出力"
   ]
  },
  {
   "cell_type": "markdown",
   "metadata": {},
   "source": [
    "#### ●scoreデータの読み込み"
   ]
  },
  {
   "cell_type": "code",
   "execution_count": null,
   "metadata": {},
   "outputs": [],
   "source": [
    "# csvファイルを読み込む\n",
    "df_score = pd.read_csv('score.csv', header=0, quotechar='\"', encoding='cp932')"
   ]
  },
  {
   "cell_type": "markdown",
   "metadata": {},
   "source": [
    "#### ●特徴量Xの設定"
   ]
  },
  {
   "cell_type": "code",
   "execution_count": null,
   "metadata": {},
   "outputs": [],
   "source": [
    "# 特徴量Xの設定\n",
    "X_score = df_score.iloc[:, :]\n",
    "\n",
    "# 特徴量Xの設定正常終了を確認する\n",
    "display(X_score.head(5), X_score.shape)"
   ]
  },
  {
   "cell_type": "markdown",
   "metadata": {},
   "source": [
    "#### ●データの加工"
   ]
  },
  {
   "cell_type": "code",
   "execution_count": null,
   "metadata": {},
   "outputs": [],
   "source": [
    "# yearに関する新しい特徴量の作成\n",
    "X_score['Duration Since Production'] = 2017 - X_score['Year']\n",
    "\n",
    "# Engine HP, Engine Cylinders, Number of Doorsの欠損値を中央値で補完する\n",
    "X_score_complement = X_score.fillna(X_score.median())\n",
    "\n",
    "# 使用する特徴量の選択\n",
    "X_score_choice = X_score_complement[['Engine HP', 'Engine Cylinders',\n",
    "                                     'highway MPG', 'city mpg',\n",
    "                                     'Popularity', 'Duration Since Production']]\n",
    "\n",
    "# データの加工の正常終了を確認する\n",
    "display(X_score_choice.head(5))"
   ]
  },
  {
   "cell_type": "markdown",
   "metadata": {},
   "source": [
    "#### ●scoreデータの特徴量からラベルの予測値算出"
   ]
  },
  {
   "cell_type": "code",
   "execution_count": null,
   "metadata": {},
   "outputs": [],
   "source": [
    "# 線形回帰モデルの学習を行った学習器に対して、score用データを用いてラベルの予測値を算出する\n",
    "predict_X_score = linear_regression.predict(X_score_choice)\n",
    "\n",
    "# score用データのラベルの予測値を表示する\n",
    "display(predict_X_score, predict_X_score.shape)"
   ]
  },
  {
   "cell_type": "markdown",
   "metadata": {},
   "source": [
    "#### ●予測値のcsv出力"
   ]
  },
  {
   "cell_type": "code",
   "execution_count": null,
   "metadata": {},
   "outputs": [],
   "source": [
    "np.savetxt(\"predict_X_score.csv\", predict_X_score, delimiter=\",\", fmt='%.5f')"
   ]
  }
 ],
 "metadata": {
  "kernelspec": {
   "display_name": "Python 3",
   "language": "python",
   "name": "python3"
  },
  "language_info": {
   "codemirror_mode": {
    "name": "ipython",
    "version": 3
   },
   "file_extension": ".py",
   "mimetype": "text/x-python",
   "name": "python",
   "nbconvert_exporter": "python",
   "pygments_lexer": "ipython3",
   "version": "3.6.5"
  }
 },
 "nbformat": 4,
 "nbformat_minor": 2
}
